{
 "cells": [
  {
   "cell_type": "markdown",
   "metadata": {},
   "source": [
    "___\n",
    "\n",
    "<a href='http://www.pieriandata.com'><img src='../Pierian_Data_Logo.png'/></a>\n",
    "___\n",
    "<center><em>Copyright by Pierian Data Inc.</em></center>\n",
    "<center><em>For more information, visit us at <a href='http://www.pieriandata.com'>www.pieriandata.com</a></em></center>"
   ]
  },
  {
   "cell_type": "markdown",
   "metadata": {},
   "source": [
    "# Time Shifting\n",
    "\n",
    "Sometimes you may need to shift all your data up or down along the time series index, in fact, a lot of pandas built-in methods do this under the hood. This isn't something we won't do often in the course, but its definitely good to know about this anyways!"
   ]
  },
  {
   "cell_type": "code",
   "execution_count": 2,
   "metadata": {},
   "outputs": [],
   "source": [
    "import pandas as pd\n",
    "import matplotlib.pyplot as plt "
   ]
  },
  {
   "cell_type": "code",
   "execution_count": 5,
   "metadata": {},
   "outputs": [],
   "source": [
    "df = pd.read_csv('../DATA/WMT.csv',index_col='Date',parse_dates=True) "
   ]
  },
  {
   "cell_type": "code",
   "execution_count": 6,
   "metadata": {},
   "outputs": [
    {
     "data": {
      "text/html": [
       "<div>\n",
       "<style scoped>\n",
       "    .dataframe tbody tr th:only-of-type {\n",
       "        vertical-align: middle;\n",
       "    }\n",
       "\n",
       "    .dataframe tbody tr th {\n",
       "        vertical-align: top;\n",
       "    }\n",
       "\n",
       "    .dataframe thead th {\n",
       "        text-align: right;\n",
       "    }\n",
       "</style>\n",
       "<table border=\"1\" class=\"dataframe\">\n",
       "  <thead>\n",
       "    <tr style=\"text-align: right;\">\n",
       "      <th></th>\n",
       "      <th>Open</th>\n",
       "      <th>High</th>\n",
       "      <th>Low</th>\n",
       "      <th>Close</th>\n",
       "      <th>Adj Close</th>\n",
       "      <th>Volume</th>\n",
       "    </tr>\n",
       "    <tr>\n",
       "      <th>Date</th>\n",
       "      <th></th>\n",
       "      <th></th>\n",
       "      <th></th>\n",
       "      <th></th>\n",
       "      <th></th>\n",
       "      <th></th>\n",
       "    </tr>\n",
       "  </thead>\n",
       "  <tbody>\n",
       "    <tr>\n",
       "      <th>2016-09-06</th>\n",
       "      <td>72.760002</td>\n",
       "      <td>73.080002</td>\n",
       "      <td>72.199997</td>\n",
       "      <td>73.000000</td>\n",
       "      <td>65.758080</td>\n",
       "      <td>9570900</td>\n",
       "    </tr>\n",
       "    <tr>\n",
       "      <th>2016-09-07</th>\n",
       "      <td>73.000000</td>\n",
       "      <td>73.050003</td>\n",
       "      <td>72.010002</td>\n",
       "      <td>72.059998</td>\n",
       "      <td>64.911324</td>\n",
       "      <td>9618300</td>\n",
       "    </tr>\n",
       "    <tr>\n",
       "      <th>2016-09-08</th>\n",
       "      <td>71.889999</td>\n",
       "      <td>72.320000</td>\n",
       "      <td>71.709999</td>\n",
       "      <td>71.830002</td>\n",
       "      <td>64.704163</td>\n",
       "      <td>9661200</td>\n",
       "    </tr>\n",
       "    <tr>\n",
       "      <th>2016-09-09</th>\n",
       "      <td>71.320000</td>\n",
       "      <td>71.510002</td>\n",
       "      <td>70.300003</td>\n",
       "      <td>70.300003</td>\n",
       "      <td>63.325943</td>\n",
       "      <td>12172600</td>\n",
       "    </tr>\n",
       "    <tr>\n",
       "      <th>2016-09-12</th>\n",
       "      <td>70.790001</td>\n",
       "      <td>72.239998</td>\n",
       "      <td>70.720001</td>\n",
       "      <td>71.940002</td>\n",
       "      <td>64.803238</td>\n",
       "      <td>10864000</td>\n",
       "    </tr>\n",
       "  </tbody>\n",
       "</table>\n",
       "</div>"
      ],
      "text/plain": [
       "                 Open       High        Low      Close  Adj Close    Volume\n",
       "Date                                                                       \n",
       "2016-09-06  72.760002  73.080002  72.199997  73.000000  65.758080   9570900\n",
       "2016-09-07  73.000000  73.050003  72.010002  72.059998  64.911324   9618300\n",
       "2016-09-08  71.889999  72.320000  71.709999  71.830002  64.704163   9661200\n",
       "2016-09-09  71.320000  71.510002  70.300003  70.300003  63.325943  12172600\n",
       "2016-09-12  70.790001  72.239998  70.720001  71.940002  64.803238  10864000"
      ]
     },
     "execution_count": 6,
     "metadata": {},
     "output_type": "execute_result"
    }
   ],
   "source": [
    "df.head()"
   ]
  },
  {
   "cell_type": "code",
   "execution_count": 7,
   "metadata": {},
   "outputs": [
    {
     "data": {
      "text/html": [
       "<div>\n",
       "<style scoped>\n",
       "    .dataframe tbody tr th:only-of-type {\n",
       "        vertical-align: middle;\n",
       "    }\n",
       "\n",
       "    .dataframe tbody tr th {\n",
       "        vertical-align: top;\n",
       "    }\n",
       "\n",
       "    .dataframe thead th {\n",
       "        text-align: right;\n",
       "    }\n",
       "</style>\n",
       "<table border=\"1\" class=\"dataframe\">\n",
       "  <thead>\n",
       "    <tr style=\"text-align: right;\">\n",
       "      <th></th>\n",
       "      <th>Open</th>\n",
       "      <th>High</th>\n",
       "      <th>Low</th>\n",
       "      <th>Close</th>\n",
       "      <th>Adj Close</th>\n",
       "      <th>Volume</th>\n",
       "    </tr>\n",
       "    <tr>\n",
       "      <th>Date</th>\n",
       "      <th></th>\n",
       "      <th></th>\n",
       "      <th></th>\n",
       "      <th></th>\n",
       "      <th></th>\n",
       "      <th></th>\n",
       "    </tr>\n",
       "  </thead>\n",
       "  <tbody>\n",
       "    <tr>\n",
       "      <th>2021-08-27</th>\n",
       "      <td>147.509995</td>\n",
       "      <td>147.690002</td>\n",
       "      <td>146.179993</td>\n",
       "      <td>146.520004</td>\n",
       "      <td>146.520004</td>\n",
       "      <td>7691300</td>\n",
       "    </tr>\n",
       "    <tr>\n",
       "      <th>2021-08-30</th>\n",
       "      <td>146.419998</td>\n",
       "      <td>148.000000</td>\n",
       "      <td>146.020004</td>\n",
       "      <td>147.699997</td>\n",
       "      <td>147.699997</td>\n",
       "      <td>5480200</td>\n",
       "    </tr>\n",
       "    <tr>\n",
       "      <th>2021-08-31</th>\n",
       "      <td>147.990005</td>\n",
       "      <td>148.440002</td>\n",
       "      <td>147.240005</td>\n",
       "      <td>148.100006</td>\n",
       "      <td>148.100006</td>\n",
       "      <td>8359500</td>\n",
       "    </tr>\n",
       "    <tr>\n",
       "      <th>2021-09-01</th>\n",
       "      <td>147.559998</td>\n",
       "      <td>147.929993</td>\n",
       "      <td>146.570007</td>\n",
       "      <td>147.779999</td>\n",
       "      <td>147.779999</td>\n",
       "      <td>6352200</td>\n",
       "    </tr>\n",
       "    <tr>\n",
       "      <th>2021-09-02</th>\n",
       "      <td>148.119995</td>\n",
       "      <td>148.789993</td>\n",
       "      <td>147.690002</td>\n",
       "      <td>148.559998</td>\n",
       "      <td>148.559998</td>\n",
       "      <td>6674100</td>\n",
       "    </tr>\n",
       "  </tbody>\n",
       "</table>\n",
       "</div>"
      ],
      "text/plain": [
       "                  Open        High         Low       Close   Adj Close  \\\n",
       "Date                                                                     \n",
       "2021-08-27  147.509995  147.690002  146.179993  146.520004  146.520004   \n",
       "2021-08-30  146.419998  148.000000  146.020004  147.699997  147.699997   \n",
       "2021-08-31  147.990005  148.440002  147.240005  148.100006  148.100006   \n",
       "2021-09-01  147.559998  147.929993  146.570007  147.779999  147.779999   \n",
       "2021-09-02  148.119995  148.789993  147.690002  148.559998  148.559998   \n",
       "\n",
       "             Volume  \n",
       "Date                 \n",
       "2021-08-27  7691300  \n",
       "2021-08-30  5480200  \n",
       "2021-08-31  8359500  \n",
       "2021-09-01  6352200  \n",
       "2021-09-02  6674100  "
      ]
     },
     "execution_count": 7,
     "metadata": {},
     "output_type": "execute_result"
    }
   ],
   "source": [
    "df.tail()"
   ]
  },
  {
   "cell_type": "markdown",
   "metadata": {},
   "source": [
    "## .shift() forward"
   ]
  },
  {
   "cell_type": "code",
   "execution_count": 8,
   "metadata": {},
   "outputs": [
    {
     "data": {
      "text/html": [
       "<div>\n",
       "<style scoped>\n",
       "    .dataframe tbody tr th:only-of-type {\n",
       "        vertical-align: middle;\n",
       "    }\n",
       "\n",
       "    .dataframe tbody tr th {\n",
       "        vertical-align: top;\n",
       "    }\n",
       "\n",
       "    .dataframe thead th {\n",
       "        text-align: right;\n",
       "    }\n",
       "</style>\n",
       "<table border=\"1\" class=\"dataframe\">\n",
       "  <thead>\n",
       "    <tr style=\"text-align: right;\">\n",
       "      <th></th>\n",
       "      <th>Open</th>\n",
       "      <th>High</th>\n",
       "      <th>Low</th>\n",
       "      <th>Close</th>\n",
       "      <th>Adj Close</th>\n",
       "      <th>Volume</th>\n",
       "    </tr>\n",
       "    <tr>\n",
       "      <th>Date</th>\n",
       "      <th></th>\n",
       "      <th></th>\n",
       "      <th></th>\n",
       "      <th></th>\n",
       "      <th></th>\n",
       "      <th></th>\n",
       "    </tr>\n",
       "  </thead>\n",
       "  <tbody>\n",
       "    <tr>\n",
       "      <th>2016-09-06</th>\n",
       "      <td>NaN</td>\n",
       "      <td>NaN</td>\n",
       "      <td>NaN</td>\n",
       "      <td>NaN</td>\n",
       "      <td>NaN</td>\n",
       "      <td>NaN</td>\n",
       "    </tr>\n",
       "    <tr>\n",
       "      <th>2016-09-07</th>\n",
       "      <td>72.760002</td>\n",
       "      <td>73.080002</td>\n",
       "      <td>72.199997</td>\n",
       "      <td>73.000000</td>\n",
       "      <td>65.758080</td>\n",
       "      <td>9570900.0</td>\n",
       "    </tr>\n",
       "    <tr>\n",
       "      <th>2016-09-08</th>\n",
       "      <td>73.000000</td>\n",
       "      <td>73.050003</td>\n",
       "      <td>72.010002</td>\n",
       "      <td>72.059998</td>\n",
       "      <td>64.911324</td>\n",
       "      <td>9618300.0</td>\n",
       "    </tr>\n",
       "    <tr>\n",
       "      <th>2016-09-09</th>\n",
       "      <td>71.889999</td>\n",
       "      <td>72.320000</td>\n",
       "      <td>71.709999</td>\n",
       "      <td>71.830002</td>\n",
       "      <td>64.704163</td>\n",
       "      <td>9661200.0</td>\n",
       "    </tr>\n",
       "    <tr>\n",
       "      <th>2016-09-12</th>\n",
       "      <td>71.320000</td>\n",
       "      <td>71.510002</td>\n",
       "      <td>70.300003</td>\n",
       "      <td>70.300003</td>\n",
       "      <td>63.325943</td>\n",
       "      <td>12172600.0</td>\n",
       "    </tr>\n",
       "  </tbody>\n",
       "</table>\n",
       "</div>"
      ],
      "text/plain": [
       "                 Open       High        Low      Close  Adj Close      Volume\n",
       "Date                                                                         \n",
       "2016-09-06        NaN        NaN        NaN        NaN        NaN         NaN\n",
       "2016-09-07  72.760002  73.080002  72.199997  73.000000  65.758080   9570900.0\n",
       "2016-09-08  73.000000  73.050003  72.010002  72.059998  64.911324   9618300.0\n",
       "2016-09-09  71.889999  72.320000  71.709999  71.830002  64.704163   9661200.0\n",
       "2016-09-12  71.320000  71.510002  70.300003  70.300003  63.325943  12172600.0"
      ]
     },
     "execution_count": 8,
     "metadata": {},
     "output_type": "execute_result"
    }
   ],
   "source": [
    "df.shift(1).head()"
   ]
  },
  {
   "cell_type": "code",
   "execution_count": 9,
   "metadata": {},
   "outputs": [
    {
     "data": {
      "text/html": [
       "<div>\n",
       "<style scoped>\n",
       "    .dataframe tbody tr th:only-of-type {\n",
       "        vertical-align: middle;\n",
       "    }\n",
       "\n",
       "    .dataframe tbody tr th {\n",
       "        vertical-align: top;\n",
       "    }\n",
       "\n",
       "    .dataframe thead th {\n",
       "        text-align: right;\n",
       "    }\n",
       "</style>\n",
       "<table border=\"1\" class=\"dataframe\">\n",
       "  <thead>\n",
       "    <tr style=\"text-align: right;\">\n",
       "      <th></th>\n",
       "      <th>Open</th>\n",
       "      <th>High</th>\n",
       "      <th>Low</th>\n",
       "      <th>Close</th>\n",
       "      <th>Adj Close</th>\n",
       "      <th>Volume</th>\n",
       "    </tr>\n",
       "    <tr>\n",
       "      <th>Date</th>\n",
       "      <th></th>\n",
       "      <th></th>\n",
       "      <th></th>\n",
       "      <th></th>\n",
       "      <th></th>\n",
       "      <th></th>\n",
       "    </tr>\n",
       "  </thead>\n",
       "  <tbody>\n",
       "    <tr>\n",
       "      <th>2021-08-27</th>\n",
       "      <td>147.470001</td>\n",
       "      <td>148.270004</td>\n",
       "      <td>146.669998</td>\n",
       "      <td>147.350006</td>\n",
       "      <td>147.350006</td>\n",
       "      <td>7822300.0</td>\n",
       "    </tr>\n",
       "    <tr>\n",
       "      <th>2021-08-30</th>\n",
       "      <td>147.509995</td>\n",
       "      <td>147.690002</td>\n",
       "      <td>146.179993</td>\n",
       "      <td>146.520004</td>\n",
       "      <td>146.520004</td>\n",
       "      <td>7691300.0</td>\n",
       "    </tr>\n",
       "    <tr>\n",
       "      <th>2021-08-31</th>\n",
       "      <td>146.419998</td>\n",
       "      <td>148.000000</td>\n",
       "      <td>146.020004</td>\n",
       "      <td>147.699997</td>\n",
       "      <td>147.699997</td>\n",
       "      <td>5480200.0</td>\n",
       "    </tr>\n",
       "    <tr>\n",
       "      <th>2021-09-01</th>\n",
       "      <td>147.990005</td>\n",
       "      <td>148.440002</td>\n",
       "      <td>147.240005</td>\n",
       "      <td>148.100006</td>\n",
       "      <td>148.100006</td>\n",
       "      <td>8359500.0</td>\n",
       "    </tr>\n",
       "    <tr>\n",
       "      <th>2021-09-02</th>\n",
       "      <td>147.559998</td>\n",
       "      <td>147.929993</td>\n",
       "      <td>146.570007</td>\n",
       "      <td>147.779999</td>\n",
       "      <td>147.779999</td>\n",
       "      <td>6352200.0</td>\n",
       "    </tr>\n",
       "  </tbody>\n",
       "</table>\n",
       "</div>"
      ],
      "text/plain": [
       "                  Open        High         Low       Close   Adj Close  \\\n",
       "Date                                                                     \n",
       "2021-08-27  147.470001  148.270004  146.669998  147.350006  147.350006   \n",
       "2021-08-30  147.509995  147.690002  146.179993  146.520004  146.520004   \n",
       "2021-08-31  146.419998  148.000000  146.020004  147.699997  147.699997   \n",
       "2021-09-01  147.990005  148.440002  147.240005  148.100006  148.100006   \n",
       "2021-09-02  147.559998  147.929993  146.570007  147.779999  147.779999   \n",
       "\n",
       "               Volume  \n",
       "Date                   \n",
       "2021-08-27  7822300.0  \n",
       "2021-08-30  7691300.0  \n",
       "2021-08-31  5480200.0  \n",
       "2021-09-01  8359500.0  \n",
       "2021-09-02  6352200.0  "
      ]
     },
     "execution_count": 9,
     "metadata": {},
     "output_type": "execute_result"
    }
   ],
   "source": [
    "# You will lose that last piece of data that no longer has an index!\n",
    "df.shift(1).tail()"
   ]
  },
  {
   "cell_type": "markdown",
   "metadata": {},
   "source": [
    "## shift() backwards"
   ]
  },
  {
   "cell_type": "code",
   "execution_count": 10,
   "metadata": {},
   "outputs": [
    {
     "data": {
      "text/html": [
       "<div>\n",
       "<style scoped>\n",
       "    .dataframe tbody tr th:only-of-type {\n",
       "        vertical-align: middle;\n",
       "    }\n",
       "\n",
       "    .dataframe tbody tr th {\n",
       "        vertical-align: top;\n",
       "    }\n",
       "\n",
       "    .dataframe thead th {\n",
       "        text-align: right;\n",
       "    }\n",
       "</style>\n",
       "<table border=\"1\" class=\"dataframe\">\n",
       "  <thead>\n",
       "    <tr style=\"text-align: right;\">\n",
       "      <th></th>\n",
       "      <th>Open</th>\n",
       "      <th>High</th>\n",
       "      <th>Low</th>\n",
       "      <th>Close</th>\n",
       "      <th>Adj Close</th>\n",
       "      <th>Volume</th>\n",
       "    </tr>\n",
       "    <tr>\n",
       "      <th>Date</th>\n",
       "      <th></th>\n",
       "      <th></th>\n",
       "      <th></th>\n",
       "      <th></th>\n",
       "      <th></th>\n",
       "      <th></th>\n",
       "    </tr>\n",
       "  </thead>\n",
       "  <tbody>\n",
       "    <tr>\n",
       "      <th>2016-09-06</th>\n",
       "      <td>73.000000</td>\n",
       "      <td>73.050003</td>\n",
       "      <td>72.010002</td>\n",
       "      <td>72.059998</td>\n",
       "      <td>64.911324</td>\n",
       "      <td>9618300.0</td>\n",
       "    </tr>\n",
       "    <tr>\n",
       "      <th>2016-09-07</th>\n",
       "      <td>71.889999</td>\n",
       "      <td>72.320000</td>\n",
       "      <td>71.709999</td>\n",
       "      <td>71.830002</td>\n",
       "      <td>64.704163</td>\n",
       "      <td>9661200.0</td>\n",
       "    </tr>\n",
       "    <tr>\n",
       "      <th>2016-09-08</th>\n",
       "      <td>71.320000</td>\n",
       "      <td>71.510002</td>\n",
       "      <td>70.300003</td>\n",
       "      <td>70.300003</td>\n",
       "      <td>63.325943</td>\n",
       "      <td>12172600.0</td>\n",
       "    </tr>\n",
       "    <tr>\n",
       "      <th>2016-09-09</th>\n",
       "      <td>70.790001</td>\n",
       "      <td>72.239998</td>\n",
       "      <td>70.720001</td>\n",
       "      <td>71.940002</td>\n",
       "      <td>64.803238</td>\n",
       "      <td>10864000.0</td>\n",
       "    </tr>\n",
       "    <tr>\n",
       "      <th>2016-09-12</th>\n",
       "      <td>71.839996</td>\n",
       "      <td>71.910004</td>\n",
       "      <td>71.150002</td>\n",
       "      <td>71.459999</td>\n",
       "      <td>64.370857</td>\n",
       "      <td>7507900.0</td>\n",
       "    </tr>\n",
       "  </tbody>\n",
       "</table>\n",
       "</div>"
      ],
      "text/plain": [
       "                 Open       High        Low      Close  Adj Close      Volume\n",
       "Date                                                                         \n",
       "2016-09-06  73.000000  73.050003  72.010002  72.059998  64.911324   9618300.0\n",
       "2016-09-07  71.889999  72.320000  71.709999  71.830002  64.704163   9661200.0\n",
       "2016-09-08  71.320000  71.510002  70.300003  70.300003  63.325943  12172600.0\n",
       "2016-09-09  70.790001  72.239998  70.720001  71.940002  64.803238  10864000.0\n",
       "2016-09-12  71.839996  71.910004  71.150002  71.459999  64.370857   7507900.0"
      ]
     },
     "execution_count": 10,
     "metadata": {},
     "output_type": "execute_result"
    }
   ],
   "source": [
    "df.shift(-1).head()"
   ]
  },
  {
   "cell_type": "code",
   "execution_count": 11,
   "metadata": {},
   "outputs": [
    {
     "data": {
      "text/html": [
       "<div>\n",
       "<style scoped>\n",
       "    .dataframe tbody tr th:only-of-type {\n",
       "        vertical-align: middle;\n",
       "    }\n",
       "\n",
       "    .dataframe tbody tr th {\n",
       "        vertical-align: top;\n",
       "    }\n",
       "\n",
       "    .dataframe thead th {\n",
       "        text-align: right;\n",
       "    }\n",
       "</style>\n",
       "<table border=\"1\" class=\"dataframe\">\n",
       "  <thead>\n",
       "    <tr style=\"text-align: right;\">\n",
       "      <th></th>\n",
       "      <th>Open</th>\n",
       "      <th>High</th>\n",
       "      <th>Low</th>\n",
       "      <th>Close</th>\n",
       "      <th>Adj Close</th>\n",
       "      <th>Volume</th>\n",
       "    </tr>\n",
       "    <tr>\n",
       "      <th>Date</th>\n",
       "      <th></th>\n",
       "      <th></th>\n",
       "      <th></th>\n",
       "      <th></th>\n",
       "      <th></th>\n",
       "      <th></th>\n",
       "    </tr>\n",
       "  </thead>\n",
       "  <tbody>\n",
       "    <tr>\n",
       "      <th>2021-08-27</th>\n",
       "      <td>146.419998</td>\n",
       "      <td>148.000000</td>\n",
       "      <td>146.020004</td>\n",
       "      <td>147.699997</td>\n",
       "      <td>147.699997</td>\n",
       "      <td>5480200.0</td>\n",
       "    </tr>\n",
       "    <tr>\n",
       "      <th>2021-08-30</th>\n",
       "      <td>147.990005</td>\n",
       "      <td>148.440002</td>\n",
       "      <td>147.240005</td>\n",
       "      <td>148.100006</td>\n",
       "      <td>148.100006</td>\n",
       "      <td>8359500.0</td>\n",
       "    </tr>\n",
       "    <tr>\n",
       "      <th>2021-08-31</th>\n",
       "      <td>147.559998</td>\n",
       "      <td>147.929993</td>\n",
       "      <td>146.570007</td>\n",
       "      <td>147.779999</td>\n",
       "      <td>147.779999</td>\n",
       "      <td>6352200.0</td>\n",
       "    </tr>\n",
       "    <tr>\n",
       "      <th>2021-09-01</th>\n",
       "      <td>148.119995</td>\n",
       "      <td>148.789993</td>\n",
       "      <td>147.690002</td>\n",
       "      <td>148.559998</td>\n",
       "      <td>148.559998</td>\n",
       "      <td>6674100.0</td>\n",
       "    </tr>\n",
       "    <tr>\n",
       "      <th>2021-09-02</th>\n",
       "      <td>NaN</td>\n",
       "      <td>NaN</td>\n",
       "      <td>NaN</td>\n",
       "      <td>NaN</td>\n",
       "      <td>NaN</td>\n",
       "      <td>NaN</td>\n",
       "    </tr>\n",
       "  </tbody>\n",
       "</table>\n",
       "</div>"
      ],
      "text/plain": [
       "                  Open        High         Low       Close   Adj Close  \\\n",
       "Date                                                                     \n",
       "2021-08-27  146.419998  148.000000  146.020004  147.699997  147.699997   \n",
       "2021-08-30  147.990005  148.440002  147.240005  148.100006  148.100006   \n",
       "2021-08-31  147.559998  147.929993  146.570007  147.779999  147.779999   \n",
       "2021-09-01  148.119995  148.789993  147.690002  148.559998  148.559998   \n",
       "2021-09-02         NaN         NaN         NaN         NaN         NaN   \n",
       "\n",
       "               Volume  \n",
       "Date                   \n",
       "2021-08-27  5480200.0  \n",
       "2021-08-30  8359500.0  \n",
       "2021-08-31  6352200.0  \n",
       "2021-09-01  6674100.0  \n",
       "2021-09-02        NaN  "
      ]
     },
     "execution_count": 11,
     "metadata": {},
     "output_type": "execute_result"
    }
   ],
   "source": [
    "df.shift(-1).tail()"
   ]
  },
  {
   "cell_type": "markdown",
   "metadata": {},
   "source": [
    "## Shifting based off Time String Code \n",
    "### Using tshift()"
   ]
  },
  {
   "cell_type": "code",
   "execution_count": 13,
   "metadata": {},
   "outputs": [
    {
     "data": {
      "text/html": [
       "<div>\n",
       "<style scoped>\n",
       "    .dataframe tbody tr th:only-of-type {\n",
       "        vertical-align: middle;\n",
       "    }\n",
       "\n",
       "    .dataframe tbody tr th {\n",
       "        vertical-align: top;\n",
       "    }\n",
       "\n",
       "    .dataframe thead th {\n",
       "        text-align: right;\n",
       "    }\n",
       "</style>\n",
       "<table border=\"1\" class=\"dataframe\">\n",
       "  <thead>\n",
       "    <tr style=\"text-align: right;\">\n",
       "      <th></th>\n",
       "      <th>Open</th>\n",
       "      <th>High</th>\n",
       "      <th>Low</th>\n",
       "      <th>Close</th>\n",
       "      <th>Adj Close</th>\n",
       "      <th>Volume</th>\n",
       "    </tr>\n",
       "    <tr>\n",
       "      <th>Date</th>\n",
       "      <th></th>\n",
       "      <th></th>\n",
       "      <th></th>\n",
       "      <th></th>\n",
       "      <th></th>\n",
       "      <th></th>\n",
       "    </tr>\n",
       "  </thead>\n",
       "  <tbody>\n",
       "    <tr>\n",
       "      <th>2016-09-30</th>\n",
       "      <td>72.760002</td>\n",
       "      <td>73.080002</td>\n",
       "      <td>72.199997</td>\n",
       "      <td>73.000000</td>\n",
       "      <td>65.758080</td>\n",
       "      <td>9570900</td>\n",
       "    </tr>\n",
       "    <tr>\n",
       "      <th>2016-09-30</th>\n",
       "      <td>73.000000</td>\n",
       "      <td>73.050003</td>\n",
       "      <td>72.010002</td>\n",
       "      <td>72.059998</td>\n",
       "      <td>64.911324</td>\n",
       "      <td>9618300</td>\n",
       "    </tr>\n",
       "    <tr>\n",
       "      <th>2016-09-30</th>\n",
       "      <td>71.889999</td>\n",
       "      <td>72.320000</td>\n",
       "      <td>71.709999</td>\n",
       "      <td>71.830002</td>\n",
       "      <td>64.704163</td>\n",
       "      <td>9661200</td>\n",
       "    </tr>\n",
       "    <tr>\n",
       "      <th>2016-09-30</th>\n",
       "      <td>71.320000</td>\n",
       "      <td>71.510002</td>\n",
       "      <td>70.300003</td>\n",
       "      <td>70.300003</td>\n",
       "      <td>63.325943</td>\n",
       "      <td>12172600</td>\n",
       "    </tr>\n",
       "    <tr>\n",
       "      <th>2016-09-30</th>\n",
       "      <td>70.790001</td>\n",
       "      <td>72.239998</td>\n",
       "      <td>70.720001</td>\n",
       "      <td>71.940002</td>\n",
       "      <td>64.803238</td>\n",
       "      <td>10864000</td>\n",
       "    </tr>\n",
       "  </tbody>\n",
       "</table>\n",
       "</div>"
      ],
      "text/plain": [
       "                 Open       High        Low      Close  Adj Close    Volume\n",
       "Date                                                                       \n",
       "2016-09-30  72.760002  73.080002  72.199997  73.000000  65.758080   9570900\n",
       "2016-09-30  73.000000  73.050003  72.010002  72.059998  64.911324   9618300\n",
       "2016-09-30  71.889999  72.320000  71.709999  71.830002  64.704163   9661200\n",
       "2016-09-30  71.320000  71.510002  70.300003  70.300003  63.325943  12172600\n",
       "2016-09-30  70.790001  72.239998  70.720001  71.940002  64.803238  10864000"
      ]
     },
     "execution_count": 13,
     "metadata": {},
     "output_type": "execute_result"
    }
   ],
   "source": [
    "# Shift everything forward one month\n",
    "df.shift(periods=1,freq='M').head()"
   ]
  },
  {
   "cell_type": "markdown",
   "metadata": {},
   "source": [
    "# Row Calculations\n",
    "\n",
    "## Differencing"
   ]
  },
  {
   "cell_type": "code",
   "execution_count": 17,
   "metadata": {},
   "outputs": [
    {
     "data": {
      "text/plain": [
       "Date\n",
       "2016-09-06     65.758080\n",
       "2016-09-07     64.911324\n",
       "2016-09-08     64.704163\n",
       "2016-09-09     63.325943\n",
       "2016-09-12     64.803238\n",
       "                 ...    \n",
       "2021-08-27    146.520004\n",
       "2021-08-30    147.699997\n",
       "2021-08-31    148.100006\n",
       "2021-09-01    147.779999\n",
       "2021-09-02    148.559998\n",
       "Name: Adj Close, Length: 1258, dtype: float64"
      ]
     },
     "execution_count": 17,
     "metadata": {},
     "output_type": "execute_result"
    }
   ],
   "source": [
    "df[\"Adj Close\"]"
   ]
  },
  {
   "cell_type": "code",
   "execution_count": 18,
   "metadata": {},
   "outputs": [
    {
     "data": {
      "text/plain": [
       "Date\n",
       "2016-09-06         NaN\n",
       "2016-09-07   -0.846756\n",
       "2016-09-08   -0.207161\n",
       "2016-09-09   -1.378220\n",
       "2016-09-12    1.477295\n",
       "                ...   \n",
       "2021-08-27   -0.830002\n",
       "2021-08-30    1.179993\n",
       "2021-08-31    0.400009\n",
       "2021-09-01   -0.320007\n",
       "2021-09-02    0.779999\n",
       "Name: Adj Close, Length: 1258, dtype: float64"
      ]
     },
     "execution_count": 18,
     "metadata": {},
     "output_type": "execute_result"
    }
   ],
   "source": [
    "df[\"Adj Close\"].diff(1)"
   ]
  },
  {
   "cell_type": "markdown",
   "metadata": {},
   "source": [
    "## Percent Changes"
   ]
  },
  {
   "cell_type": "code",
   "execution_count": 20,
   "metadata": {},
   "outputs": [
    {
     "data": {
      "text/plain": [
       "Date\n",
       "2016-09-06     65.758080\n",
       "2016-09-07     64.911324\n",
       "2016-09-08     64.704163\n",
       "2016-09-09     63.325943\n",
       "2016-09-12     64.803238\n",
       "                 ...    \n",
       "2021-08-27    146.520004\n",
       "2021-08-30    147.699997\n",
       "2021-08-31    148.100006\n",
       "2021-09-01    147.779999\n",
       "2021-09-02    148.559998\n",
       "Name: Adj Close, Length: 1258, dtype: float64"
      ]
     },
     "execution_count": 20,
     "metadata": {},
     "output_type": "execute_result"
    }
   ],
   "source": [
    "df['Adj Close']"
   ]
  },
  {
   "cell_type": "code",
   "execution_count": 21,
   "metadata": {},
   "outputs": [
    {
     "data": {
      "text/plain": [
       "Date\n",
       "2016-09-06         NaN\n",
       "2016-09-07   -0.012877\n",
       "2016-09-08   -0.003191\n",
       "2016-09-09   -0.021300\n",
       "2016-09-12    0.023328\n",
       "                ...   \n",
       "2021-08-27   -0.005633\n",
       "2021-08-30    0.008053\n",
       "2021-08-31    0.002708\n",
       "2021-09-01   -0.002161\n",
       "2021-09-02    0.005278\n",
       "Name: Adj Close, Length: 1258, dtype: float64"
      ]
     },
     "execution_count": 21,
     "metadata": {},
     "output_type": "execute_result"
    }
   ],
   "source": [
    "df['Adj Close'].pct_change(1)"
   ]
  },
  {
   "cell_type": "markdown",
   "metadata": {},
   "source": [
    "## Cummulative Sums or Products"
   ]
  },
  {
   "cell_type": "code",
   "execution_count": 22,
   "metadata": {},
   "outputs": [],
   "source": [
    "example_series = pd.Series([1,2,3,4])"
   ]
  },
  {
   "cell_type": "code",
   "execution_count": 23,
   "metadata": {},
   "outputs": [
    {
     "data": {
      "text/plain": [
       "0    1\n",
       "1    2\n",
       "2    3\n",
       "3    4\n",
       "dtype: int64"
      ]
     },
     "execution_count": 23,
     "metadata": {},
     "output_type": "execute_result"
    }
   ],
   "source": [
    "example_series"
   ]
  },
  {
   "cell_type": "code",
   "execution_count": 24,
   "metadata": {},
   "outputs": [
    {
     "data": {
      "text/plain": [
       "0     1\n",
       "1     3\n",
       "2     6\n",
       "3    10\n",
       "dtype: int64"
      ]
     },
     "execution_count": 24,
     "metadata": {},
     "output_type": "execute_result"
    }
   ],
   "source": [
    "example_series.cumsum()"
   ]
  },
  {
   "cell_type": "code",
   "execution_count": 25,
   "metadata": {},
   "outputs": [
    {
     "data": {
      "text/plain": [
       "0     1\n",
       "1     2\n",
       "2     6\n",
       "3    24\n",
       "dtype: int64"
      ]
     },
     "execution_count": 25,
     "metadata": {},
     "output_type": "execute_result"
    }
   ],
   "source": [
    "example_series.cumprod()"
   ]
  }
 ],
 "metadata": {
  "anaconda-cloud": {},
  "kernelspec": {
   "display_name": "Python 3",
   "language": "python",
   "name": "python3"
  },
  "language_info": {
   "codemirror_mode": {
    "name": "ipython",
    "version": 3
   },
   "file_extension": ".py",
   "mimetype": "text/x-python",
   "name": "python",
   "nbconvert_exporter": "python",
   "pygments_lexer": "ipython3",
   "version": "3.8.5"
  }
 },
 "nbformat": 4,
 "nbformat_minor": 1
}
