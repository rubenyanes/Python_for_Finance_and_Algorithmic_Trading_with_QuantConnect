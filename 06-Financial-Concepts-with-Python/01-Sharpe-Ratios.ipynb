{
 "cells": [
  {
   "cell_type": "markdown",
   "id": "940c6693",
   "metadata": {},
   "source": [
    "___\n",
    "\n",
    "<a href='http://www.pieriandata.com'><img src='../Pierian_Data_Logo.png'/></a>\n",
    "___\n",
    "<center><em>Copyright by Pierian Data Inc.</em></center>\n",
    "<center><em>For more information, visit us at <a href='http://www.pieriandata.com'>www.pieriandata.com</a></em></center>"
   ]
  },
  {
   "cell_type": "markdown",
   "id": "c1268c2c",
   "metadata": {},
   "source": [
    "# Imports"
   ]
  },
  {
   "cell_type": "code",
   "execution_count": 1,
   "id": "disciplinary-wilderness",
   "metadata": {},
   "outputs": [],
   "source": [
    "import pandas as pd"
   ]
  },
  {
   "cell_type": "markdown",
   "id": "handed-service",
   "metadata": {},
   "source": [
    "# Sharpe Ratio\n",
    "In this notebook you will implement the sharpe ratio for an examplar portfolio consisting of Apple and Microsoft\n",
    "\n",
    "The Sharpe Ratio is a measure for calculating risk-adjusted return, and this ratio has become the industry standard for such calculations. \n",
    "\n",
    "SR = (Mean portfolio return - risk free)/Standard deviation of portfolio return\n",
    "\n",
    "$$ \\text{Sharpe Ratio} = \\frac{\\text{Mean Portfolio Return} - \\text{Risk free rate}} {\\text{Standard deviation of portfolio return}}$$\n",
    "\n",
    "Because of the (current) low yield on treasury bonds (https://www.treasury.gov/resource-center/data-chart-center/interest-rates/Pages/TextView.aspx?data=yield) the risk free return is very small. In fact, if accounting for inflation it is 0 (or even negative). Thus we set risk free rate to 0.<br />\n",
    "\n",
    "This is the formula for a **daily** sharpe ratio.<br />\n",
    "If you want to compute the sharpe ratio for a longer time period, you need to multiply the sharpe ratio with a factor K corresponding to the number of trading days in this period. <br />\n",
    "(In fact you take the square root of this factor. The reason for this lies within the underlying sampling process. More information about this: https://quant.stackexchange.com/questions/2260/how-to-annualize-sharpe-ratio)\n",
    "\n",
    "Annualized Sharpe Ratio = K * SR\n",
    "\n",
    "K-values for various sampling rates (There are 252 trading days in a year):\n",
    "\n",
    "* Daily = sqrt(252)\n",
    "* Weekly = sqrt(52)\n",
    "* Monthly = sqrt(12)\n",
    "\n",
    "\n",
    "\n",
    "Read more: Sharpe Ratio https://www.investopedia.com/terms/s/sharperatio.asp"
   ]
  },
  {
   "cell_type": "markdown",
   "id": "cellular-james",
   "metadata": {},
   "source": [
    "## Load stock data\n",
    "At first we load the csv files containing the stock prices of X and Y for the last 5 years"
   ]
  },
  {
   "cell_type": "code",
   "execution_count": 2,
   "id": "retired-calvin",
   "metadata": {},
   "outputs": [],
   "source": [
    "aapl = pd.read_csv(\"apple.csv\", index_col=\"Date\")\n",
    "msft = pd.read_csv(\"msft.csv\", index_col=\"Date\")"
   ]
  },
  {
   "cell_type": "markdown",
   "id": "bottom-calibration",
   "metadata": {},
   "source": [
    "Let's inspect the data"
   ]
  },
  {
   "cell_type": "code",
   "execution_count": 3,
   "id": "productive-savings",
   "metadata": {},
   "outputs": [
    {
     "data": {
      "text/html": [
       "<div>\n",
       "<style scoped>\n",
       "    .dataframe tbody tr th:only-of-type {\n",
       "        vertical-align: middle;\n",
       "    }\n",
       "\n",
       "    .dataframe tbody tr th {\n",
       "        vertical-align: top;\n",
       "    }\n",
       "\n",
       "    .dataframe thead th {\n",
       "        text-align: right;\n",
       "    }\n",
       "</style>\n",
       "<table border=\"1\" class=\"dataframe\">\n",
       "  <thead>\n",
       "    <tr style=\"text-align: right;\">\n",
       "      <th></th>\n",
       "      <th>Open</th>\n",
       "      <th>High</th>\n",
       "      <th>Low</th>\n",
       "      <th>Close</th>\n",
       "      <th>Adj Close</th>\n",
       "      <th>Volume</th>\n",
       "    </tr>\n",
       "    <tr>\n",
       "      <th>Date</th>\n",
       "      <th></th>\n",
       "      <th></th>\n",
       "      <th></th>\n",
       "      <th></th>\n",
       "      <th></th>\n",
       "      <th></th>\n",
       "    </tr>\n",
       "  </thead>\n",
       "  <tbody>\n",
       "    <tr>\n",
       "      <th>2015-12-31</th>\n",
       "      <td>26.752501</td>\n",
       "      <td>26.757500</td>\n",
       "      <td>26.205000</td>\n",
       "      <td>26.315001</td>\n",
       "      <td>24.266081</td>\n",
       "      <td>163649200</td>\n",
       "    </tr>\n",
       "    <tr>\n",
       "      <th>2016-01-04</th>\n",
       "      <td>25.652500</td>\n",
       "      <td>26.342501</td>\n",
       "      <td>25.500000</td>\n",
       "      <td>26.337500</td>\n",
       "      <td>24.286833</td>\n",
       "      <td>270597600</td>\n",
       "    </tr>\n",
       "    <tr>\n",
       "      <th>2016-01-05</th>\n",
       "      <td>26.437500</td>\n",
       "      <td>26.462500</td>\n",
       "      <td>25.602501</td>\n",
       "      <td>25.677500</td>\n",
       "      <td>23.678219</td>\n",
       "      <td>223164000</td>\n",
       "    </tr>\n",
       "    <tr>\n",
       "      <th>2016-01-06</th>\n",
       "      <td>25.139999</td>\n",
       "      <td>25.592501</td>\n",
       "      <td>24.967501</td>\n",
       "      <td>25.174999</td>\n",
       "      <td>23.214844</td>\n",
       "      <td>273829600</td>\n",
       "    </tr>\n",
       "    <tr>\n",
       "      <th>2016-01-07</th>\n",
       "      <td>24.670000</td>\n",
       "      <td>25.032499</td>\n",
       "      <td>24.107500</td>\n",
       "      <td>24.112499</td>\n",
       "      <td>22.235069</td>\n",
       "      <td>324377600</td>\n",
       "    </tr>\n",
       "  </tbody>\n",
       "</table>\n",
       "</div>"
      ],
      "text/plain": [
       "                 Open       High        Low      Close  Adj Close     Volume\n",
       "Date                                                                        \n",
       "2015-12-31  26.752501  26.757500  26.205000  26.315001  24.266081  163649200\n",
       "2016-01-04  25.652500  26.342501  25.500000  26.337500  24.286833  270597600\n",
       "2016-01-05  26.437500  26.462500  25.602501  25.677500  23.678219  223164000\n",
       "2016-01-06  25.139999  25.592501  24.967501  25.174999  23.214844  273829600\n",
       "2016-01-07  24.670000  25.032499  24.107500  24.112499  22.235069  324377600"
      ]
     },
     "execution_count": 3,
     "metadata": {},
     "output_type": "execute_result"
    }
   ],
   "source": [
    "aapl.head()"
   ]
  },
  {
   "cell_type": "code",
   "execution_count": 4,
   "id": "processed-auckland",
   "metadata": {},
   "outputs": [
    {
     "data": {
      "text/html": [
       "<div>\n",
       "<style scoped>\n",
       "    .dataframe tbody tr th:only-of-type {\n",
       "        vertical-align: middle;\n",
       "    }\n",
       "\n",
       "    .dataframe tbody tr th {\n",
       "        vertical-align: top;\n",
       "    }\n",
       "\n",
       "    .dataframe thead th {\n",
       "        text-align: right;\n",
       "    }\n",
       "</style>\n",
       "<table border=\"1\" class=\"dataframe\">\n",
       "  <thead>\n",
       "    <tr style=\"text-align: right;\">\n",
       "      <th></th>\n",
       "      <th>Open</th>\n",
       "      <th>High</th>\n",
       "      <th>Low</th>\n",
       "      <th>Close</th>\n",
       "      <th>Adj Close</th>\n",
       "      <th>Volume</th>\n",
       "    </tr>\n",
       "    <tr>\n",
       "      <th>Date</th>\n",
       "      <th></th>\n",
       "      <th></th>\n",
       "      <th></th>\n",
       "      <th></th>\n",
       "      <th></th>\n",
       "      <th></th>\n",
       "    </tr>\n",
       "  </thead>\n",
       "  <tbody>\n",
       "    <tr>\n",
       "      <th>2015-12-31</th>\n",
       "      <td>56.040001</td>\n",
       "      <td>56.189999</td>\n",
       "      <td>55.419998</td>\n",
       "      <td>55.480000</td>\n",
       "      <td>50.298279</td>\n",
       "      <td>27334100</td>\n",
       "    </tr>\n",
       "    <tr>\n",
       "      <th>2016-01-04</th>\n",
       "      <td>54.320000</td>\n",
       "      <td>54.799999</td>\n",
       "      <td>53.389999</td>\n",
       "      <td>54.799999</td>\n",
       "      <td>49.681782</td>\n",
       "      <td>53778000</td>\n",
       "    </tr>\n",
       "    <tr>\n",
       "      <th>2016-01-05</th>\n",
       "      <td>54.930000</td>\n",
       "      <td>55.389999</td>\n",
       "      <td>54.540001</td>\n",
       "      <td>55.049999</td>\n",
       "      <td>49.908432</td>\n",
       "      <td>34079700</td>\n",
       "    </tr>\n",
       "    <tr>\n",
       "      <th>2016-01-06</th>\n",
       "      <td>54.320000</td>\n",
       "      <td>54.400002</td>\n",
       "      <td>53.639999</td>\n",
       "      <td>54.049999</td>\n",
       "      <td>49.001839</td>\n",
       "      <td>39518900</td>\n",
       "    </tr>\n",
       "    <tr>\n",
       "      <th>2016-01-07</th>\n",
       "      <td>52.700001</td>\n",
       "      <td>53.490002</td>\n",
       "      <td>52.070000</td>\n",
       "      <td>52.169998</td>\n",
       "      <td>47.297417</td>\n",
       "      <td>56564900</td>\n",
       "    </tr>\n",
       "  </tbody>\n",
       "</table>\n",
       "</div>"
      ],
      "text/plain": [
       "                 Open       High        Low      Close  Adj Close    Volume\n",
       "Date                                                                       \n",
       "2015-12-31  56.040001  56.189999  55.419998  55.480000  50.298279  27334100\n",
       "2016-01-04  54.320000  54.799999  53.389999  54.799999  49.681782  53778000\n",
       "2016-01-05  54.930000  55.389999  54.540001  55.049999  49.908432  34079700\n",
       "2016-01-06  54.320000  54.400002  53.639999  54.049999  49.001839  39518900\n",
       "2016-01-07  52.700001  53.490002  52.070000  52.169998  47.297417  56564900"
      ]
     },
     "execution_count": 4,
     "metadata": {},
     "output_type": "execute_result"
    }
   ],
   "source": [
    "msft.head()"
   ]
  },
  {
   "cell_type": "markdown",
   "id": "supposed-louis",
   "metadata": {},
   "source": [
    "## Compute Daily Returns\n",
    "We can compute the daily return for both shares by computing the percentage change between the current adjusted price and the price one day before.\n",
    "We can directly perform this task by using **pct_change(period)** provided by pandas"
   ]
  },
  {
   "cell_type": "code",
   "execution_count": 5,
   "id": "fluid-concentration",
   "metadata": {},
   "outputs": [],
   "source": [
    "aapl[\"Daily Return\"] = aapl[\"Adj Close\"].pct_change(1)\n",
    "msft[\"Daily Return\"] = msft[\"Adj Close\"].pct_change(1)"
   ]
  },
  {
   "cell_type": "code",
   "execution_count": 6,
   "id": "regulation-horizon",
   "metadata": {},
   "outputs": [
    {
     "data": {
      "text/html": [
       "<div>\n",
       "<style scoped>\n",
       "    .dataframe tbody tr th:only-of-type {\n",
       "        vertical-align: middle;\n",
       "    }\n",
       "\n",
       "    .dataframe tbody tr th {\n",
       "        vertical-align: top;\n",
       "    }\n",
       "\n",
       "    .dataframe thead th {\n",
       "        text-align: right;\n",
       "    }\n",
       "</style>\n",
       "<table border=\"1\" class=\"dataframe\">\n",
       "  <thead>\n",
       "    <tr style=\"text-align: right;\">\n",
       "      <th></th>\n",
       "      <th>Open</th>\n",
       "      <th>High</th>\n",
       "      <th>Low</th>\n",
       "      <th>Close</th>\n",
       "      <th>Adj Close</th>\n",
       "      <th>Volume</th>\n",
       "      <th>Daily Return</th>\n",
       "    </tr>\n",
       "    <tr>\n",
       "      <th>Date</th>\n",
       "      <th></th>\n",
       "      <th></th>\n",
       "      <th></th>\n",
       "      <th></th>\n",
       "      <th></th>\n",
       "      <th></th>\n",
       "      <th></th>\n",
       "    </tr>\n",
       "  </thead>\n",
       "  <tbody>\n",
       "    <tr>\n",
       "      <th>2015-12-31</th>\n",
       "      <td>26.752501</td>\n",
       "      <td>26.757500</td>\n",
       "      <td>26.205000</td>\n",
       "      <td>26.315001</td>\n",
       "      <td>24.266081</td>\n",
       "      <td>163649200</td>\n",
       "      <td>NaN</td>\n",
       "    </tr>\n",
       "    <tr>\n",
       "      <th>2016-01-04</th>\n",
       "      <td>25.652500</td>\n",
       "      <td>26.342501</td>\n",
       "      <td>25.500000</td>\n",
       "      <td>26.337500</td>\n",
       "      <td>24.286833</td>\n",
       "      <td>270597600</td>\n",
       "      <td>0.000855</td>\n",
       "    </tr>\n",
       "    <tr>\n",
       "      <th>2016-01-05</th>\n",
       "      <td>26.437500</td>\n",
       "      <td>26.462500</td>\n",
       "      <td>25.602501</td>\n",
       "      <td>25.677500</td>\n",
       "      <td>23.678219</td>\n",
       "      <td>223164000</td>\n",
       "      <td>-0.025059</td>\n",
       "    </tr>\n",
       "    <tr>\n",
       "      <th>2016-01-06</th>\n",
       "      <td>25.139999</td>\n",
       "      <td>25.592501</td>\n",
       "      <td>24.967501</td>\n",
       "      <td>25.174999</td>\n",
       "      <td>23.214844</td>\n",
       "      <td>273829600</td>\n",
       "      <td>-0.019570</td>\n",
       "    </tr>\n",
       "    <tr>\n",
       "      <th>2016-01-07</th>\n",
       "      <td>24.670000</td>\n",
       "      <td>25.032499</td>\n",
       "      <td>24.107500</td>\n",
       "      <td>24.112499</td>\n",
       "      <td>22.235069</td>\n",
       "      <td>324377600</td>\n",
       "      <td>-0.042205</td>\n",
       "    </tr>\n",
       "  </tbody>\n",
       "</table>\n",
       "</div>"
      ],
      "text/plain": [
       "                 Open       High        Low      Close  Adj Close     Volume  \\\n",
       "Date                                                                           \n",
       "2015-12-31  26.752501  26.757500  26.205000  26.315001  24.266081  163649200   \n",
       "2016-01-04  25.652500  26.342501  25.500000  26.337500  24.286833  270597600   \n",
       "2016-01-05  26.437500  26.462500  25.602501  25.677500  23.678219  223164000   \n",
       "2016-01-06  25.139999  25.592501  24.967501  25.174999  23.214844  273829600   \n",
       "2016-01-07  24.670000  25.032499  24.107500  24.112499  22.235069  324377600   \n",
       "\n",
       "            Daily Return  \n",
       "Date                      \n",
       "2015-12-31           NaN  \n",
       "2016-01-04      0.000855  \n",
       "2016-01-05     -0.025059  \n",
       "2016-01-06     -0.019570  \n",
       "2016-01-07     -0.042205  "
      ]
     },
     "execution_count": 6,
     "metadata": {},
     "output_type": "execute_result"
    }
   ],
   "source": [
    "aapl.head()"
   ]
  },
  {
   "cell_type": "code",
   "execution_count": 7,
   "id": "running-basin",
   "metadata": {},
   "outputs": [
    {
     "data": {
      "text/html": [
       "<div>\n",
       "<style scoped>\n",
       "    .dataframe tbody tr th:only-of-type {\n",
       "        vertical-align: middle;\n",
       "    }\n",
       "\n",
       "    .dataframe tbody tr th {\n",
       "        vertical-align: top;\n",
       "    }\n",
       "\n",
       "    .dataframe thead th {\n",
       "        text-align: right;\n",
       "    }\n",
       "</style>\n",
       "<table border=\"1\" class=\"dataframe\">\n",
       "  <thead>\n",
       "    <tr style=\"text-align: right;\">\n",
       "      <th></th>\n",
       "      <th>Open</th>\n",
       "      <th>High</th>\n",
       "      <th>Low</th>\n",
       "      <th>Close</th>\n",
       "      <th>Adj Close</th>\n",
       "      <th>Volume</th>\n",
       "      <th>Daily Return</th>\n",
       "    </tr>\n",
       "    <tr>\n",
       "      <th>Date</th>\n",
       "      <th></th>\n",
       "      <th></th>\n",
       "      <th></th>\n",
       "      <th></th>\n",
       "      <th></th>\n",
       "      <th></th>\n",
       "      <th></th>\n",
       "    </tr>\n",
       "  </thead>\n",
       "  <tbody>\n",
       "    <tr>\n",
       "      <th>2015-12-31</th>\n",
       "      <td>56.040001</td>\n",
       "      <td>56.189999</td>\n",
       "      <td>55.419998</td>\n",
       "      <td>55.480000</td>\n",
       "      <td>50.298279</td>\n",
       "      <td>27334100</td>\n",
       "      <td>NaN</td>\n",
       "    </tr>\n",
       "    <tr>\n",
       "      <th>2016-01-04</th>\n",
       "      <td>54.320000</td>\n",
       "      <td>54.799999</td>\n",
       "      <td>53.389999</td>\n",
       "      <td>54.799999</td>\n",
       "      <td>49.681782</td>\n",
       "      <td>53778000</td>\n",
       "      <td>-0.012257</td>\n",
       "    </tr>\n",
       "    <tr>\n",
       "      <th>2016-01-05</th>\n",
       "      <td>54.930000</td>\n",
       "      <td>55.389999</td>\n",
       "      <td>54.540001</td>\n",
       "      <td>55.049999</td>\n",
       "      <td>49.908432</td>\n",
       "      <td>34079700</td>\n",
       "      <td>0.004562</td>\n",
       "    </tr>\n",
       "    <tr>\n",
       "      <th>2016-01-06</th>\n",
       "      <td>54.320000</td>\n",
       "      <td>54.400002</td>\n",
       "      <td>53.639999</td>\n",
       "      <td>54.049999</td>\n",
       "      <td>49.001839</td>\n",
       "      <td>39518900</td>\n",
       "      <td>-0.018165</td>\n",
       "    </tr>\n",
       "    <tr>\n",
       "      <th>2016-01-07</th>\n",
       "      <td>52.700001</td>\n",
       "      <td>53.490002</td>\n",
       "      <td>52.070000</td>\n",
       "      <td>52.169998</td>\n",
       "      <td>47.297417</td>\n",
       "      <td>56564900</td>\n",
       "      <td>-0.034783</td>\n",
       "    </tr>\n",
       "  </tbody>\n",
       "</table>\n",
       "</div>"
      ],
      "text/plain": [
       "                 Open       High        Low      Close  Adj Close    Volume  \\\n",
       "Date                                                                          \n",
       "2015-12-31  56.040001  56.189999  55.419998  55.480000  50.298279  27334100   \n",
       "2016-01-04  54.320000  54.799999  53.389999  54.799999  49.681782  53778000   \n",
       "2016-01-05  54.930000  55.389999  54.540001  55.049999  49.908432  34079700   \n",
       "2016-01-06  54.320000  54.400002  53.639999  54.049999  49.001839  39518900   \n",
       "2016-01-07  52.700001  53.490002  52.070000  52.169998  47.297417  56564900   \n",
       "\n",
       "            Daily Return  \n",
       "Date                      \n",
       "2015-12-31           NaN  \n",
       "2016-01-04     -0.012257  \n",
       "2016-01-05      0.004562  \n",
       "2016-01-06     -0.018165  \n",
       "2016-01-07     -0.034783  "
      ]
     },
     "execution_count": 7,
     "metadata": {},
     "output_type": "execute_result"
    }
   ],
   "source": [
    "msft.head()"
   ]
  },
  {
   "cell_type": "markdown",
   "id": "suspended-rogers",
   "metadata": {},
   "source": [
    "As the first row is now NaN we drop it:"
   ]
  },
  {
   "cell_type": "code",
   "execution_count": 8,
   "id": "assigned-leadership",
   "metadata": {},
   "outputs": [],
   "source": [
    "aapl = aapl.dropna()\n",
    "msft = msft.dropna()"
   ]
  },
  {
   "cell_type": "markdown",
   "id": "assigned-grill",
   "metadata": {},
   "source": [
    "## Computing standard deviation of Daily Returns\n",
    "You can easily compute the std of the daily returns by using **std()**"
   ]
  },
  {
   "cell_type": "code",
   "execution_count": 9,
   "id": "impossible-image",
   "metadata": {},
   "outputs": [
    {
     "data": {
      "text/plain": [
       "(0.018700009230664717, 0.017014492907230318)"
      ]
     },
     "execution_count": 9,
     "metadata": {},
     "output_type": "execute_result"
    }
   ],
   "source": [
    "aapl[\"Daily Return\"].std(), msft[\"Daily Return\"].std()"
   ]
  },
  {
   "cell_type": "markdown",
   "id": "handy-beverage",
   "metadata": {},
   "source": [
    "## Combine everything to calculate the daily Sharpe Ratio\n",
    "\n",
    "1. Compute mean daily return\n",
    "2. Calculate STD\n",
    "3. Compute daily sharpe ratio"
   ]
  },
  {
   "cell_type": "code",
   "execution_count": 10,
   "id": "cellular-perception",
   "metadata": {},
   "outputs": [],
   "source": [
    "def compute_sharpe_ratio(data, risk_free_rate = 0):\n",
    "    mean_return = data[\"Daily Return\"].mean()\n",
    "    std = data[\"Daily Return\"].std()\n",
    "    sharpe_ratio = (mean_return-risk_free_rate) / std\n",
    "    return sharpe_ratio"
   ]
  },
  {
   "cell_type": "markdown",
   "id": "universal-hampshire",
   "metadata": {},
   "source": [
    "We can now compute the sharpe ratio for apple and microsoft"
   ]
  },
  {
   "cell_type": "code",
   "execution_count": 11,
   "id": "effective-screw",
   "metadata": {},
   "outputs": [
    {
     "name": "stdout",
     "output_type": "stream",
     "text": [
      "The daily sharpe ratio for APPLE is 0.07745264297924775 and 0.08222277302779334 for MICROSOFT\n"
     ]
    }
   ],
   "source": [
    "sr_apple = compute_sharpe_ratio(aapl)\n",
    "sr_microsoft = compute_sharpe_ratio(msft)\n",
    "\n",
    "print(f\"The daily sharpe ratio for APPLE is {sr_apple} and {sr_microsoft} for MICROSOFT\")"
   ]
  },
  {
   "cell_type": "markdown",
   "id": "better-provincial",
   "metadata": {},
   "source": [
    "Now we can annualize this ratio by multiplying it with $\\sqrt{252}$"
   ]
  },
  {
   "cell_type": "code",
   "execution_count": 12,
   "id": "numerous-cursor",
   "metadata": {},
   "outputs": [
    {
     "name": "stdout",
     "output_type": "stream",
     "text": [
      "The yearly sharpe ratio for APPLE is 1.2295225902465745 and 1.3052460572259028 for MICROSOFT\n"
     ]
    }
   ],
   "source": [
    "annual_sr_apple = (252**0.5) * sr_apple\n",
    "annual_sr_microsoft = (252**0.5) * sr_microsoft\n",
    "print(f\"The yearly sharpe ratio for APPLE is {annual_sr_apple} and {annual_sr_microsoft} for MICROSOFT\")"
   ]
  },
  {
   "cell_type": "markdown",
   "id": "returning-arabic",
   "metadata": {},
   "source": [
    "## Sortino Ratio\n",
    "In contrast to the sharpe ratio, the sortino ratio only punishes returns falling below a user defined threshold. Additionally, instead of inspecting the complete standard deviation, the sortino ratio only computes the *downside risk*, i.e the standard deviation of all returns which are smaller than the target\n",
    "\n",
    "The flow is similar to the sharpe ratio:\n",
    "\n",
    "1. Compute mean daily return\n",
    "2. Calculate downside values by taking all daily returns smaller than the target\n",
    "3. Compute standard deviation of downside\n",
    "4. compute daily sortino ratio with the same formula as above"
   ]
  },
  {
   "cell_type": "code",
   "execution_count": 13,
   "id": "precious-interface",
   "metadata": {},
   "outputs": [],
   "source": [
    "def compute_sortino_ratio(data, target, risk_free_rate=0):\n",
    "    mean_return = data[\"Daily Return\"].mean()\n",
    "    downside = data[data[\"Daily Return\"] < target][\"Daily Return\"]\n",
    "    std = downside.std()\n",
    "    sortino_ratio = (mean_return-risk_free_rate) / std\n",
    "    return sortino_ratio"
   ]
  },
  {
   "cell_type": "code",
   "execution_count": 14,
   "id": "signed-enforcement",
   "metadata": {},
   "outputs": [
    {
     "name": "stdout",
     "output_type": "stream",
     "text": [
      "The daily sortino ratio for APPLE is 0.1016461270508297 and 0.10678448664154837 for MICROSOFT\n"
     ]
    }
   ],
   "source": [
    "sr_apple = compute_sortino_ratio(aapl, target=0)\n",
    "sr_microsoft = compute_sortino_ratio(msft, target=0)\n",
    "\n",
    "print(f\"The daily sortino ratio for APPLE is {sr_apple} and {sr_microsoft} for MICROSOFT\")"
   ]
  },
  {
   "cell_type": "code",
   "execution_count": 15,
   "id": "exterior-nutrition",
   "metadata": {},
   "outputs": [
    {
     "name": "stdout",
     "output_type": "stream",
     "text": [
      "The yearly sortino ratio for APPLE is 1.613582243456224 and 1.695151173199415 for MICROSOFT\n"
     ]
    }
   ],
   "source": [
    "annual_sr_apple = (252**0.5) * sr_apple\n",
    "annual_sr_microsoft = (252**0.5) * sr_microsoft\n",
    "print(f\"The yearly sortino ratio for APPLE is {annual_sr_apple} and {annual_sr_microsoft} for MICROSOFT\")"
   ]
  },
  {
   "cell_type": "markdown",
   "id": "03513ebf",
   "metadata": {},
   "source": [
    "## Probabilistic Sharpe Ratio\n",
    "\n",
    "The problem of the sharpe ratio is, that it is calculated via historical data and thus it only yields an estimation and not the true sharpe ratio!\n",
    "\n",
    "To tackle this problem you can use the *Probabilistic Sharpe Ratio* \n",
    "It is defined as \n",
    "$$ \\text{cdf} \\Big( \\frac{(\\widehat{\\text{SR}} - SR^*)}{\\widehat{\\sigma}({\\widehat{SR})}} \\Big)$$\n",
    "where cdf is the cummulative density function of the normal function, <br />\n",
    "$\\widehat{SR}$ is the original sharpe ratio,<br />\n",
    "$SR^*$ is the benchmark sharpe ratio (often 0), <br />\n",
    "and $\\hat{\\sigma}(\\widehat{SR})$ is the standard deviation of the estimated sharpe ratio which is computed as follows:\n",
    "\n",
    "$$ \\hat{\\sigma}(\\hat{SR}) = \\sqrt{\\frac{1}{n-1} \\Big (1 + \\frac{1}{2} \\widehat{\\text{SR}}^2 - \\gamma_3 \\hat{\\text{SR}} + \\frac{\\gamma_4}{4} \\widehat{\\text{SR}}^2 \\Big )} $$\n",
    "\n",
    "Here, $\\gamma_3$ and $\\gamma_4$ correspond to skew and fisher kurtosis.\n",
    "\n",
    "In words, the probabilistic sharpe ratio computes the propability that the true sharpe ratio is $\\leq$ the estimated sharpe ratio ($PSR = P(SR \\leq \\widehat{\\text{SR}})$) given the benchmark sharpe ratio.\n",
    "\n",
    "To compute skew kurtosis and cdf, we can use scipy.stats"
   ]
  },
  {
   "cell_type": "code",
   "execution_count": 16,
   "id": "d4314a91",
   "metadata": {},
   "outputs": [],
   "source": [
    "import scipy.stats"
   ]
  },
  {
   "cell_type": "code",
   "execution_count": 17,
   "id": "198244f3",
   "metadata": {},
   "outputs": [],
   "source": [
    "def compute_prob_sharpe_ratio(data, benchmark=0):\n",
    "    \n",
    "    sr = compute_sharpe_ratio(data, 0)\n",
    "    \n",
    "    skew = scipy.stats.skew(data[\"Daily Return\"])\n",
    "    # Use fisher kurtosis\n",
    "    \n",
    "    kurtosis = scipy.stats.kurtosis(data[\"Daily Return\"], fisher=True)  \n",
    "    \n",
    "    n = len(data)\n",
    "    \n",
    "    std = ( (1 / (n-1)) * (1 + 0.5 * sr**2 - skew * sr + (kurtosis / 4) * sr**2))**0.5\n",
    "    \n",
    "    ratio = (sr - benchmark) / std\n",
    "    prob_sharpe_ratio = scipy.stats.norm.cdf(ratio)\n",
    "    return prob_sharpe_ratio"
   ]
  },
  {
   "cell_type": "code",
   "execution_count": 18,
   "id": "97d1bd02",
   "metadata": {},
   "outputs": [
    {
     "name": "stdout",
     "output_type": "stream",
     "text": [
      "The daily probabilistic sharpe ratio for APPLE is 0.9980881565955385 and 0.9989135272403051 for MICROSOFT\n"
     ]
    }
   ],
   "source": [
    "sr_apple = compute_prob_sharpe_ratio(aapl)\n",
    "sr_microsoft = compute_prob_sharpe_ratio(msft)\n",
    "\n",
    "print(f\"The daily probabilistic sharpe ratio for APPLE is {sr_apple} and {sr_microsoft} for MICROSOFT\")"
   ]
  },
  {
   "cell_type": "code",
   "execution_count": 20,
   "id": "e38af485",
   "metadata": {},
   "outputs": [
    {
     "name": "stdout",
     "output_type": "stream",
     "text": [
      "The annual probabilistic sharpe ratio for APPLE is 15.844158293224119 and 15.857260646017153 for MICROSOFT\n"
     ]
    }
   ],
   "source": [
    "annual_sr_apple = (252**0.5) * sr_apple\n",
    "annual_sr_microsoft = (252**0.5) * sr_microsoft\n",
    "print(f\"The annual probabilistic sharpe ratio for APPLE is {annual_sr_apple} and {annual_sr_microsoft} for MICROSOFT\")"
   ]
  }
 ],
 "metadata": {
  "kernelspec": {
   "display_name": "Python 3",
   "language": "python",
   "name": "python3"
  },
  "language_info": {
   "codemirror_mode": {
    "name": "ipython",
    "version": 3
   },
   "file_extension": ".py",
   "mimetype": "text/x-python",
   "name": "python",
   "nbconvert_exporter": "python",
   "pygments_lexer": "ipython3",
   "version": "3.8.5"
  }
 },
 "nbformat": 4,
 "nbformat_minor": 5
}
