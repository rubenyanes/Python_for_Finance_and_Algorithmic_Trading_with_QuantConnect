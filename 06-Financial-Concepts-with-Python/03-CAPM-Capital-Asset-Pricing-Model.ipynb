{
 "cells": [
  {
   "cell_type": "markdown",
   "metadata": {},
   "source": [
    "___\n",
    "\n",
    "<a href='http://www.pieriandata.com'><img src='../Pierian_Data_Logo.png'/></a>\n",
    "___\n",
    "<center><em>Copyright by Pierian Data Inc.</em></center>\n",
    "<center><em>For more information, visit us at <a href='http://www.pieriandata.com'>www.pieriandata.com</a></em></center>"
   ]
  },
  {
   "cell_type": "code",
   "execution_count": 12,
   "metadata": {},
   "outputs": [],
   "source": [
    "import pandas as pd\n",
    "import matplotlib.pyplot as plt"
   ]
  },
  {
   "cell_type": "markdown",
   "metadata": {},
   "source": [
    "## Load stock data\n",
    "At first we load the csv files containing the stock prices of apple, amazon, general electric and the CBOE Volatility Index since 1-1-2010"
   ]
  },
  {
   "cell_type": "code",
   "execution_count": 13,
   "metadata": {},
   "outputs": [],
   "source": [
    "aapl = pd.read_csv(\"apple_2010.csv\",index_col='Date',parse_dates=True)\n",
    "amzn = pd.read_csv(\"amazon_2010.csv\",index_col='Date',parse_dates=True)\n",
    "ge = pd.read_csv(\"GE_2010.csv\",index_col='Date',parse_dates=True)\n",
    "vix = pd.read_csv(\"VIX_2010.csv\",index_col='Date',parse_dates=True)\n",
    "sp500 = pd.read_csv(\"sp500_2010.csv\",index_col='Date',parse_dates=True)"
   ]
  },
  {
   "cell_type": "code",
   "execution_count": 14,
   "metadata": {},
   "outputs": [
    {
     "data": {
      "text/html": [
       "<div>\n",
       "<style scoped>\n",
       "    .dataframe tbody tr th:only-of-type {\n",
       "        vertical-align: middle;\n",
       "    }\n",
       "\n",
       "    .dataframe tbody tr th {\n",
       "        vertical-align: top;\n",
       "    }\n",
       "\n",
       "    .dataframe thead th {\n",
       "        text-align: right;\n",
       "    }\n",
       "</style>\n",
       "<table border=\"1\" class=\"dataframe\">\n",
       "  <thead>\n",
       "    <tr style=\"text-align: right;\">\n",
       "      <th></th>\n",
       "      <th>Open</th>\n",
       "      <th>High</th>\n",
       "      <th>Low</th>\n",
       "      <th>Close</th>\n",
       "      <th>Adj Close</th>\n",
       "      <th>Volume</th>\n",
       "    </tr>\n",
       "    <tr>\n",
       "      <th>Date</th>\n",
       "      <th></th>\n",
       "      <th></th>\n",
       "      <th></th>\n",
       "      <th></th>\n",
       "      <th></th>\n",
       "      <th></th>\n",
       "    </tr>\n",
       "  </thead>\n",
       "  <tbody>\n",
       "    <tr>\n",
       "      <th>2009-12-31</th>\n",
       "      <td>7.611786</td>\n",
       "      <td>7.619643</td>\n",
       "      <td>7.520000</td>\n",
       "      <td>7.526071</td>\n",
       "      <td>6.462008</td>\n",
       "      <td>352410800</td>\n",
       "    </tr>\n",
       "    <tr>\n",
       "      <th>2010-01-04</th>\n",
       "      <td>7.622500</td>\n",
       "      <td>7.660714</td>\n",
       "      <td>7.585000</td>\n",
       "      <td>7.643214</td>\n",
       "      <td>6.562591</td>\n",
       "      <td>493729600</td>\n",
       "    </tr>\n",
       "    <tr>\n",
       "      <th>2010-01-05</th>\n",
       "      <td>7.664286</td>\n",
       "      <td>7.699643</td>\n",
       "      <td>7.616071</td>\n",
       "      <td>7.656429</td>\n",
       "      <td>6.573935</td>\n",
       "      <td>601904800</td>\n",
       "    </tr>\n",
       "    <tr>\n",
       "      <th>2010-01-06</th>\n",
       "      <td>7.656429</td>\n",
       "      <td>7.686786</td>\n",
       "      <td>7.526786</td>\n",
       "      <td>7.534643</td>\n",
       "      <td>6.469369</td>\n",
       "      <td>552160000</td>\n",
       "    </tr>\n",
       "    <tr>\n",
       "      <th>2010-01-07</th>\n",
       "      <td>7.562500</td>\n",
       "      <td>7.571429</td>\n",
       "      <td>7.466071</td>\n",
       "      <td>7.520714</td>\n",
       "      <td>6.457407</td>\n",
       "      <td>477131200</td>\n",
       "    </tr>\n",
       "    <tr>\n",
       "      <th>...</th>\n",
       "      <td>...</td>\n",
       "      <td>...</td>\n",
       "      <td>...</td>\n",
       "      <td>...</td>\n",
       "      <td>...</td>\n",
       "      <td>...</td>\n",
       "    </tr>\n",
       "    <tr>\n",
       "      <th>2021-08-30</th>\n",
       "      <td>149.000000</td>\n",
       "      <td>153.490005</td>\n",
       "      <td>148.610001</td>\n",
       "      <td>153.119995</td>\n",
       "      <td>153.119995</td>\n",
       "      <td>90956700</td>\n",
       "    </tr>\n",
       "    <tr>\n",
       "      <th>2021-08-31</th>\n",
       "      <td>152.660004</td>\n",
       "      <td>152.800003</td>\n",
       "      <td>151.289993</td>\n",
       "      <td>151.830002</td>\n",
       "      <td>151.830002</td>\n",
       "      <td>86453100</td>\n",
       "    </tr>\n",
       "    <tr>\n",
       "      <th>2021-09-01</th>\n",
       "      <td>152.830002</td>\n",
       "      <td>154.979996</td>\n",
       "      <td>152.339996</td>\n",
       "      <td>152.509995</td>\n",
       "      <td>152.509995</td>\n",
       "      <td>80313700</td>\n",
       "    </tr>\n",
       "    <tr>\n",
       "      <th>2021-09-02</th>\n",
       "      <td>153.869995</td>\n",
       "      <td>154.720001</td>\n",
       "      <td>152.399994</td>\n",
       "      <td>153.649994</td>\n",
       "      <td>153.649994</td>\n",
       "      <td>71115500</td>\n",
       "    </tr>\n",
       "    <tr>\n",
       "      <th>2021-09-03</th>\n",
       "      <td>153.759995</td>\n",
       "      <td>154.630005</td>\n",
       "      <td>153.089996</td>\n",
       "      <td>154.300003</td>\n",
       "      <td>154.300003</td>\n",
       "      <td>57808700</td>\n",
       "    </tr>\n",
       "  </tbody>\n",
       "</table>\n",
       "<p>2940 rows × 6 columns</p>\n",
       "</div>"
      ],
      "text/plain": [
       "                  Open        High         Low       Close   Adj Close  \\\n",
       "Date                                                                     \n",
       "2009-12-31    7.611786    7.619643    7.520000    7.526071    6.462008   \n",
       "2010-01-04    7.622500    7.660714    7.585000    7.643214    6.562591   \n",
       "2010-01-05    7.664286    7.699643    7.616071    7.656429    6.573935   \n",
       "2010-01-06    7.656429    7.686786    7.526786    7.534643    6.469369   \n",
       "2010-01-07    7.562500    7.571429    7.466071    7.520714    6.457407   \n",
       "...                ...         ...         ...         ...         ...   \n",
       "2021-08-30  149.000000  153.490005  148.610001  153.119995  153.119995   \n",
       "2021-08-31  152.660004  152.800003  151.289993  151.830002  151.830002   \n",
       "2021-09-01  152.830002  154.979996  152.339996  152.509995  152.509995   \n",
       "2021-09-02  153.869995  154.720001  152.399994  153.649994  153.649994   \n",
       "2021-09-03  153.759995  154.630005  153.089996  154.300003  154.300003   \n",
       "\n",
       "               Volume  \n",
       "Date                   \n",
       "2009-12-31  352410800  \n",
       "2010-01-04  493729600  \n",
       "2010-01-05  601904800  \n",
       "2010-01-06  552160000  \n",
       "2010-01-07  477131200  \n",
       "...               ...  \n",
       "2021-08-30   90956700  \n",
       "2021-08-31   86453100  \n",
       "2021-09-01   80313700  \n",
       "2021-09-02   71115500  \n",
       "2021-09-03   57808700  \n",
       "\n",
       "[2940 rows x 6 columns]"
      ]
     },
     "execution_count": 14,
     "metadata": {},
     "output_type": "execute_result"
    }
   ],
   "source": [
    "aapl"
   ]
  },
  {
   "cell_type": "markdown",
   "metadata": {},
   "source": [
    "## Compute cumulative returns\n",
    "The cumulative return is the overall total return of an investment over a given time period.\n",
    "You can compute it by subtracting the current price of a stock from the price it had when you bought it.<br />\n",
    "To compute the percentage value, you divide it instead of subtracting"
   ]
  },
  {
   "cell_type": "code",
   "execution_count": 15,
   "metadata": {},
   "outputs": [
    {
     "data": {
      "text/plain": [
       "Date\n",
       "2009-12-31     86.062485\n",
       "2010-01-04     87.882713\n",
       "2010-01-05     88.337753\n",
       "2010-01-06     87.882713\n",
       "2010-01-07     92.433258\n",
       "                 ...    \n",
       "2021-08-30    105.190002\n",
       "2021-08-31    105.410004\n",
       "2021-09-01    103.660004\n",
       "2021-09-02    106.260002\n",
       "2021-09-03    104.750000\n",
       "Name: Adj Close, Length: 2940, dtype: float64"
      ]
     },
     "execution_count": 15,
     "metadata": {},
     "output_type": "execute_result"
    }
   ],
   "source": [
    "ge[\"Adj Close\"]"
   ]
  },
  {
   "cell_type": "code",
   "execution_count": 16,
   "metadata": {},
   "outputs": [],
   "source": [
    "def compute_cumulative(data, get_absolute=True):\n",
    "    initial_price = data[\"Adj Close\"].iloc[0]\n",
    "    last_price = data[\"Adj Close\"].iloc[-1]\n",
    "    if get_absolute:\n",
    "        # Returns absolute dollar gain for 1 share\n",
    "        return last_price - initial_price\n",
    "    else:\n",
    "        # Returns percentage change\n",
    "        return 100*(last_price-initial_price) / initial_price   #last_price/initial_price\n",
    "        "
   ]
  },
  {
   "cell_type": "code",
   "execution_count": 17,
   "metadata": {},
   "outputs": [
    {
     "name": "stdout",
     "output_type": "stream",
     "text": [
      "Apple cumulative return: 147.8379945755005; Percentage: 2287.802548057404%\n",
      "Amazon cumulative return: 3343.530044555664; Percentage: 2485.5262699691684%\n",
      "GE cumulative return: 18.687515258789062; Percentage: 21.713892313221308%\n",
      "SP500 cumulative return: 364.0951385498047; Percentage: 409.16532043511756%\n"
     ]
    }
   ],
   "source": [
    "aapl_absolute_cumulative_return = compute_cumulative(aapl)\n",
    "aapl_percentage_cumulative_return = compute_cumulative(aapl, False) \n",
    "\n",
    "amzn_absolute_cumulative_return = compute_cumulative(amzn)\n",
    "amzn_percentage_cumulative_return = compute_cumulative(amzn, False) \n",
    "\n",
    "ge_absolute_cumulative_return = compute_cumulative(ge)\n",
    "ge_percentage_cumulative_return = compute_cumulative(ge, False)  \n",
    "\n",
    "sp500_absolute_cumulative_return = compute_cumulative(sp500)\n",
    "sp500_percentage_cumulative_return = compute_cumulative(sp500, False)  \n",
    "\n",
    "\n",
    "print(f\"Apple cumulative return: {aapl_absolute_cumulative_return}; Percentage: {aapl_percentage_cumulative_return}%\")\n",
    "print(f\"Amazon cumulative return: {amzn_absolute_cumulative_return}; Percentage: {amzn_percentage_cumulative_return}%\")\n",
    "print(f\"GE cumulative return: {ge_absolute_cumulative_return}; Percentage: {ge_percentage_cumulative_return}%\")\n",
    "print(f\"SP500 cumulative return: {sp500_absolute_cumulative_return}; Percentage: {sp500_percentage_cumulative_return}%\")"
   ]
  },
  {
   "cell_type": "markdown",
   "metadata": {},
   "source": [
    "## Visualized Cummulative Returns Over Time\n",
    "\n",
    "### Absolute Returns (a.k.a How many dollars earned per share if held since start of time series?)\n",
    "We can also plot the cumulative returns over time by  subtracting) all prices from the initial one\n",
    "\n",
    "**IMPORTANT NOTE: This doesn't tell you the initial price of a share, so a \\\\$100 gain per share is great if you bought each share at \\\\$5 but not as great if each share cost you \\\\$10000!**"
   ]
  },
  {
   "cell_type": "code",
   "execution_count": 18,
   "metadata": {},
   "outputs": [],
   "source": [
    "aapl[\"Cumulative_Absolute\"] = aapl[\"Adj Close\"] - aapl[\"Adj Close\"].iloc[0]\n",
    "amzn[\"Cumulative_Absolute\"] = amzn[\"Adj Close\"] - amzn[\"Adj Close\"].iloc[0]\n",
    "ge[\"Cumulative_Absolute\"] = ge[\"Adj Close\"] - ge[\"Adj Close\"].iloc[0]\n",
    "sp500[\"Cumulative_Absolute\"] = sp500[\"Adj Close\"] - sp500[\"Adj Close\"].iloc[0]"
   ]
  },
  {
   "cell_type": "code",
   "execution_count": 19,
   "metadata": {},
   "outputs": [
    {
     "data": {
      "text/plain": [
       "Text(0, 0.5, 'Absolute Dollar Gain per Share')"
      ]
     },
     "execution_count": 19,
     "metadata": {},
     "output_type": "execute_result"
    },
    {
     "data": {
      "image/png": "[encoded data removed]",
      "text/plain": [
       "<Figure size 720x576 with 1 Axes>"
      ]
     },
     "metadata": {
      "needs_background": "light"
     },
     "output_type": "display_data"
    }
   ],
   "source": [
    "aapl[\"Cumulative_Absolute\"].plot(label=\"AAPL\", figsize=(10, 8))\n",
    "amzn[\"Cumulative_Absolute\"].plot(label=\"AMZN\")\n",
    "ge[\"Cumulative_Absolute\"].plot(label=\"GE\")\n",
    "sp500[\"Cumulative_Absolute\"].plot(label=\"SP500\")\n",
    "\n",
    "plt.legend()\n",
    "plt.title(\"Absolute Cumulative Returns\")\n",
    "plt.ylabel(\"Absolute Dollar Gain per Share\")"
   ]
  },
  {
   "cell_type": "markdown",
   "metadata": {},
   "source": [
    "Note how this plot is really not that informative since it never informed us of the initial price per share! This is why we begin to think about \"normalizing\" our gains. We need a way to fairly compare performance between individual stocks, like percentage gain!"
   ]
  },
  {
   "cell_type": "code",
   "execution_count": 20,
   "metadata": {},
   "outputs": [],
   "source": [
    "aapl[\"Cumulative_Percentage\"] = 100* (aapl[\"Adj Close\"]-aapl[\"Adj Close\"].iloc[0]) / aapl[\"Adj Close\"].iloc[0]\n",
    "amzn[\"Cumulative_Percentage\"] = 100* (amzn[\"Adj Close\"]-amzn[\"Adj Close\"].iloc[0]) / amzn[\"Adj Close\"].iloc[0]\n",
    "ge[\"Cumulative_Percentage\"] = 100* (ge[\"Adj Close\"]-ge[\"Adj Close\"].iloc[0]) / ge[\"Adj Close\"].iloc[0]\n",
    "sp500[\"Cumulative_Percentage\"] = 100* (sp500[\"Adj Close\"]-sp500[\"Adj Close\"].iloc[0]) / sp500[\"Adj Close\"].iloc[0]"
   ]
  },
  {
   "cell_type": "markdown",
   "metadata": {},
   "source": [
    "You can see that comparing absolute cumulative returns is not ideal because of different scalings, thus we should use the percentage values:"
   ]
  },
  {
   "cell_type": "code",
   "execution_count": 21,
   "metadata": {},
   "outputs": [
    {
     "data": {
      "text/plain": [
       "Text(0.5, 1.0, 'Percent Cumulative Returns')"
      ]
     },
     "execution_count": 21,
     "metadata": {},
     "output_type": "execute_result"
    },
    {
     "data": {
      "image/png": "[encoded data removed]",
      "text/plain": [
       "<Figure size 720x576 with 1 Axes>"
      ]
     },
     "metadata": {
      "needs_background": "light"
     },
     "output_type": "display_data"
    }
   ],
   "source": [
    "aapl[\"Cumulative_Percentage\"].plot(label=\"AAPL\", figsize=(10, 8))\n",
    "amzn[\"Cumulative_Percentage\"].plot(label=\"AMZN\")\n",
    "ge[\"Cumulative_Percentage\"].plot(label=\"GE\")\n",
    "sp500[\"Cumulative_Percentage\"].plot(label=\"SP500\")\n",
    "\n",
    "plt.legend()\n",
    "plt.title(\"Percent Cumulative Returns\")"
   ]
  },
  {
   "cell_type": "markdown",
   "metadata": {},
   "source": [
    "\n",
    "We can compute the daily return for both shares by computing the percentage change between the current adjusted price and the price one day before.\n",
    "We can directly perform this task by using **pct_change(period)** provided by pandas.\n",
    "As the first row is now NaN we can directly drop it (alternatively you can use .iloc[1:])"
   ]
  },
  {
   "cell_type": "code",
   "execution_count": 22,
   "metadata": {},
   "outputs": [],
   "source": [
    "aapl[\"Daily Return\"] = aapl[\"Adj Close\"].pct_change(1)\n",
    "amzn[\"Daily Return\"] = amzn[\"Adj Close\"].pct_change(1)\n",
    "ge[\"Daily Return\"] = ge[\"Adj Close\"].pct_change(1)\n",
    "sp500[\"Daily Return\"] = sp500[\"Adj Close\"].pct_change(1)\n",
    "vix[\"Daily Return\"] = vix[\"Adj Close\"].pct_change(1)"
   ]
  },
  {
   "cell_type": "markdown",
   "metadata": {},
   "source": [
    "We can use a histogram to plot the daily returns"
   ]
  },
  {
   "cell_type": "code",
   "execution_count": 23,
   "metadata": {},
   "outputs": [
    {
     "data": {
      "text/plain": [
       "Text(0.5, 1.0, 'Daily Returns: Apple')"
      ]
     },
     "execution_count": 23,
     "metadata": {},
     "output_type": "execute_result"
    },
    {
     "data": {
      "image/png": "[encoded data removed]",
      "text/plain": [
       "<Figure size 432x288 with 1 Axes>"
      ]
     },
     "metadata": {
      "needs_background": "light"
     },
     "output_type": "display_data"
    }
   ],
   "source": [
    "aapl[\"Daily Return\"].hist(bins=100)\n",
    "plt.title(\"Daily Returns: Apple\")"
   ]
  },
  {
   "cell_type": "code",
   "execution_count": 24,
   "metadata": {},
   "outputs": [
    {
     "data": {
      "text/plain": [
       "Text(0.5, 1.0, 'Daily Returns: Amazon')"
      ]
     },
     "execution_count": 24,
     "metadata": {},
     "output_type": "execute_result"
    },
    {
     "data": {
      "image/png": "[encoded data removed]",
      "text/plain": [
       "<Figure size 432x288 with 1 Axes>"
      ]
     },
     "metadata": {
      "needs_background": "light"
     },
     "output_type": "display_data"
    }
   ],
   "source": [
    "amzn[\"Daily Return\"].hist(bins=100)\n",
    "plt.title(\"Daily Returns: Amazon\")"
   ]
  },
  {
   "cell_type": "code",
   "execution_count": 25,
   "metadata": {},
   "outputs": [
    {
     "data": {
      "text/plain": [
       "Text(0.5, 1.0, 'Daily Returns: GE')"
      ]
     },
     "execution_count": 25,
     "metadata": {},
     "output_type": "execute_result"
    },
    {
     "data": {
      "image/png": "[encoded data removed]",
      "text/plain": [
       "<Figure size 432x288 with 1 Axes>"
      ]
     },
     "metadata": {
      "needs_background": "light"
     },
     "output_type": "display_data"
    }
   ],
   "source": [
    "ge[\"Daily Return\"].hist(bins=100)\n",
    "plt.title(\"Daily Returns: GE\")"
   ]
  },
  {
   "cell_type": "code",
   "execution_count": 26,
   "metadata": {},
   "outputs": [
    {
     "data": {
      "text/plain": [
       "Text(0.5, 1.0, 'Daily Returns: sp500')"
      ]
     },
     "execution_count": 26,
     "metadata": {},
     "output_type": "execute_result"
    },
    {
     "data": {
      "image/png": "[encoded data removed]",
      "text/plain": [
       "<Figure size 432x288 with 1 Axes>"
      ]
     },
     "metadata": {
      "needs_background": "light"
     },
     "output_type": "display_data"
    }
   ],
   "source": [
    "sp500[\"Daily Return\"].hist(bins=100)\n",
    "plt.title(\"Daily Returns: sp500\")"
   ]
  },
  {
   "cell_type": "markdown",
   "metadata": {},
   "source": [
    "# Daily Return Performance Comparison "
   ]
  },
  {
   "cell_type": "markdown",
   "metadata": {},
   "source": [
    "## Compare daily returns with benchmark.\n",
    "We can use a scatter plot to compare the daily return of our stocks with the sp500."
   ]
  },
  {
   "cell_type": "code",
   "execution_count": 27,
   "metadata": {},
   "outputs": [
    {
     "data": {
      "text/plain": [
       "Text(0, 0.5, 'Daily Change: SP500')"
      ]
     },
     "execution_count": 27,
     "metadata": {},
     "output_type": "execute_result"
    },
    {
     "data": {
      "image/png": "[encoded data removed]",
      "text/plain": [
       "<Figure size 432x288 with 1 Axes>"
      ]
     },
     "metadata": {
      "needs_background": "light"
     },
     "output_type": "display_data"
    }
   ],
   "source": [
    "plt.scatter(aapl['Daily Return'],sp500['Daily Return'],alpha=0.3)\n",
    "plt.xlabel(\"Daily Change: Apple\")\n",
    "plt.ylabel(\"Daily Change: SP500\")"
   ]
  },
  {
   "cell_type": "code",
   "execution_count": 28,
   "metadata": {},
   "outputs": [
    {
     "data": {
      "text/plain": [
       "Text(0, 0.5, 'Daily Change: SP500')"
      ]
     },
     "execution_count": 28,
     "metadata": {},
     "output_type": "execute_result"
    },
    {
     "data": {
      "image/png": "[encoded data removed]",
      "text/plain": [
       "<Figure size 432x288 with 1 Axes>"
      ]
     },
     "metadata": {
      "needs_background": "light"
     },
     "output_type": "display_data"
    }
   ],
   "source": [
    "plt.scatter(amzn['Daily Return'],sp500['Daily Return'],alpha=0.3)\n",
    "plt.xlabel(\"Daily Change: Amazon\")\n",
    "plt.ylabel(\"Daily Change: SP500\")"
   ]
  },
  {
   "cell_type": "code",
   "execution_count": 29,
   "metadata": {},
   "outputs": [
    {
     "data": {
      "text/plain": [
       "Text(0, 0.5, 'Daily Change: SP500')"
      ]
     },
     "execution_count": 29,
     "metadata": {},
     "output_type": "execute_result"
    },
    {
     "data": {
      "image/png": "[encoded data removed]",
      "text/plain": [
       "<Figure size 432x288 with 1 Axes>"
      ]
     },
     "metadata": {
      "needs_background": "light"
     },
     "output_type": "display_data"
    }
   ],
   "source": [
    "plt.scatter(ge['Daily Return'],sp500['Daily Return'],alpha=0.3)\n",
    "plt.xlabel(\"Daily Change: GE\")\n",
    "plt.ylabel(\"Daily Change: SP500\")"
   ]
  },
  {
   "cell_type": "markdown",
   "metadata": {},
   "source": [
    "### Cummulative Returns from Daily Returns\n",
    "\n",
    "Using a bit of clever math, we can see that cummulative returns can be derived from daily returns:"
   ]
  },
  {
   "cell_type": "code",
   "execution_count": 30,
   "metadata": {},
   "outputs": [
    {
     "data": {
      "text/html": [
       "<div>\n",
       "<style scoped>\n",
       "    .dataframe tbody tr th:only-of-type {\n",
       "        vertical-align: middle;\n",
       "    }\n",
       "\n",
       "    .dataframe tbody tr th {\n",
       "        vertical-align: top;\n",
       "    }\n",
       "\n",
       "    .dataframe thead th {\n",
       "        text-align: right;\n",
       "    }\n",
       "</style>\n",
       "<table border=\"1\" class=\"dataframe\">\n",
       "  <thead>\n",
       "    <tr style=\"text-align: right;\">\n",
       "      <th></th>\n",
       "      <th>Open</th>\n",
       "      <th>High</th>\n",
       "      <th>Low</th>\n",
       "      <th>Close</th>\n",
       "      <th>Adj Close</th>\n",
       "      <th>Volume</th>\n",
       "      <th>Cumulative_Absolute</th>\n",
       "      <th>Cumulative_Percentage</th>\n",
       "      <th>Daily Return</th>\n",
       "    </tr>\n",
       "    <tr>\n",
       "      <th>Date</th>\n",
       "      <th></th>\n",
       "      <th></th>\n",
       "      <th></th>\n",
       "      <th></th>\n",
       "      <th></th>\n",
       "      <th></th>\n",
       "      <th></th>\n",
       "      <th></th>\n",
       "      <th></th>\n",
       "    </tr>\n",
       "  </thead>\n",
       "  <tbody>\n",
       "    <tr>\n",
       "      <th>2009-12-31</th>\n",
       "      <td>7.611786</td>\n",
       "      <td>7.619643</td>\n",
       "      <td>7.520000</td>\n",
       "      <td>7.526071</td>\n",
       "      <td>6.462008</td>\n",
       "      <td>352410800</td>\n",
       "      <td>0.000000</td>\n",
       "      <td>0.000000</td>\n",
       "      <td>NaN</td>\n",
       "    </tr>\n",
       "    <tr>\n",
       "      <th>2010-01-04</th>\n",
       "      <td>7.622500</td>\n",
       "      <td>7.660714</td>\n",
       "      <td>7.585000</td>\n",
       "      <td>7.643214</td>\n",
       "      <td>6.562591</td>\n",
       "      <td>493729600</td>\n",
       "      <td>0.100582</td>\n",
       "      <td>1.556515</td>\n",
       "      <td>0.015565</td>\n",
       "    </tr>\n",
       "    <tr>\n",
       "      <th>2010-01-05</th>\n",
       "      <td>7.664286</td>\n",
       "      <td>7.699643</td>\n",
       "      <td>7.616071</td>\n",
       "      <td>7.656429</td>\n",
       "      <td>6.573935</td>\n",
       "      <td>601904800</td>\n",
       "      <td>0.111927</td>\n",
       "      <td>1.732071</td>\n",
       "      <td>0.001729</td>\n",
       "    </tr>\n",
       "    <tr>\n",
       "      <th>2010-01-06</th>\n",
       "      <td>7.656429</td>\n",
       "      <td>7.686786</td>\n",
       "      <td>7.526786</td>\n",
       "      <td>7.534643</td>\n",
       "      <td>6.469369</td>\n",
       "      <td>552160000</td>\n",
       "      <td>0.007360</td>\n",
       "      <td>0.113904</td>\n",
       "      <td>-0.015906</td>\n",
       "    </tr>\n",
       "    <tr>\n",
       "      <th>2010-01-07</th>\n",
       "      <td>7.562500</td>\n",
       "      <td>7.571429</td>\n",
       "      <td>7.466071</td>\n",
       "      <td>7.520714</td>\n",
       "      <td>6.457407</td>\n",
       "      <td>477131200</td>\n",
       "      <td>-0.004601</td>\n",
       "      <td>-0.071201</td>\n",
       "      <td>-0.001849</td>\n",
       "    </tr>\n",
       "    <tr>\n",
       "      <th>...</th>\n",
       "      <td>...</td>\n",
       "      <td>...</td>\n",
       "      <td>...</td>\n",
       "      <td>...</td>\n",
       "      <td>...</td>\n",
       "      <td>...</td>\n",
       "      <td>...</td>\n",
       "      <td>...</td>\n",
       "      <td>...</td>\n",
       "    </tr>\n",
       "    <tr>\n",
       "      <th>2021-08-30</th>\n",
       "      <td>149.000000</td>\n",
       "      <td>153.490005</td>\n",
       "      <td>148.610001</td>\n",
       "      <td>153.119995</td>\n",
       "      <td>153.119995</td>\n",
       "      <td>90956700</td>\n",
       "      <td>146.657987</td>\n",
       "      <td>2269.541849</td>\n",
       "      <td>0.030417</td>\n",
       "    </tr>\n",
       "    <tr>\n",
       "      <th>2021-08-31</th>\n",
       "      <td>152.660004</td>\n",
       "      <td>152.800003</td>\n",
       "      <td>151.289993</td>\n",
       "      <td>151.830002</td>\n",
       "      <td>151.830002</td>\n",
       "      <td>86453100</td>\n",
       "      <td>145.367993</td>\n",
       "      <td>2249.579119</td>\n",
       "      <td>-0.008425</td>\n",
       "    </tr>\n",
       "    <tr>\n",
       "      <th>2021-09-01</th>\n",
       "      <td>152.830002</td>\n",
       "      <td>154.979996</td>\n",
       "      <td>152.339996</td>\n",
       "      <td>152.509995</td>\n",
       "      <td>152.509995</td>\n",
       "      <td>80313700</td>\n",
       "      <td>146.047986</td>\n",
       "      <td>2260.102050</td>\n",
       "      <td>0.004479</td>\n",
       "    </tr>\n",
       "    <tr>\n",
       "      <th>2021-09-02</th>\n",
       "      <td>153.869995</td>\n",
       "      <td>154.720001</td>\n",
       "      <td>152.399994</td>\n",
       "      <td>153.649994</td>\n",
       "      <td>153.649994</td>\n",
       "      <td>71115500</td>\n",
       "      <td>147.187985</td>\n",
       "      <td>2277.743614</td>\n",
       "      <td>0.007475</td>\n",
       "    </tr>\n",
       "    <tr>\n",
       "      <th>2021-09-03</th>\n",
       "      <td>153.759995</td>\n",
       "      <td>154.630005</td>\n",
       "      <td>153.089996</td>\n",
       "      <td>154.300003</td>\n",
       "      <td>154.300003</td>\n",
       "      <td>57808700</td>\n",
       "      <td>147.837995</td>\n",
       "      <td>2287.802548</td>\n",
       "      <td>0.004230</td>\n",
       "    </tr>\n",
       "  </tbody>\n",
       "</table>\n",
       "<p>2940 rows × 9 columns</p>\n",
       "</div>"
      ],
      "text/plain": [
       "                  Open        High         Low       Close   Adj Close  \\\n",
       "Date                                                                     \n",
       "2009-12-31    7.611786    7.619643    7.520000    7.526071    6.462008   \n",
       "2010-01-04    7.622500    7.660714    7.585000    7.643214    6.562591   \n",
       "2010-01-05    7.664286    7.699643    7.616071    7.656429    6.573935   \n",
       "2010-01-06    7.656429    7.686786    7.526786    7.534643    6.469369   \n",
       "2010-01-07    7.562500    7.571429    7.466071    7.520714    6.457407   \n",
       "...                ...         ...         ...         ...         ...   \n",
       "2021-08-30  149.000000  153.490005  148.610001  153.119995  153.119995   \n",
       "2021-08-31  152.660004  152.800003  151.289993  151.830002  151.830002   \n",
       "2021-09-01  152.830002  154.979996  152.339996  152.509995  152.509995   \n",
       "2021-09-02  153.869995  154.720001  152.399994  153.649994  153.649994   \n",
       "2021-09-03  153.759995  154.630005  153.089996  154.300003  154.300003   \n",
       "\n",
       "               Volume  Cumulative_Absolute  Cumulative_Percentage  \\\n",
       "Date                                                                \n",
       "2009-12-31  352410800             0.000000               0.000000   \n",
       "2010-01-04  493729600             0.100582               1.556515   \n",
       "2010-01-05  601904800             0.111927               1.732071   \n",
       "2010-01-06  552160000             0.007360               0.113904   \n",
       "2010-01-07  477131200            -0.004601              -0.071201   \n",
       "...               ...                  ...                    ...   \n",
       "2021-08-30   90956700           146.657987            2269.541849   \n",
       "2021-08-31   86453100           145.367993            2249.579119   \n",
       "2021-09-01   80313700           146.047986            2260.102050   \n",
       "2021-09-02   71115500           147.187985            2277.743614   \n",
       "2021-09-03   57808700           147.837995            2287.802548   \n",
       "\n",
       "            Daily Return  \n",
       "Date                      \n",
       "2009-12-31           NaN  \n",
       "2010-01-04      0.015565  \n",
       "2010-01-05      0.001729  \n",
       "2010-01-06     -0.015906  \n",
       "2010-01-07     -0.001849  \n",
       "...                  ...  \n",
       "2021-08-30      0.030417  \n",
       "2021-08-31     -0.008425  \n",
       "2021-09-01      0.004479  \n",
       "2021-09-02      0.007475  \n",
       "2021-09-03      0.004230  \n",
       "\n",
       "[2940 rows x 9 columns]"
      ]
     },
     "execution_count": 30,
     "metadata": {},
     "output_type": "execute_result"
    }
   ],
   "source": [
    "aapl"
   ]
  },
  {
   "cell_type": "code",
   "execution_count": 31,
   "metadata": {},
   "outputs": [
    {
     "data": {
      "text/plain": [
       "Date\n",
       "2009-12-31          NaN\n",
       "2010-01-04     0.015565\n",
       "2010-01-05     0.017321\n",
       "2010-01-06     0.001139\n",
       "2010-01-07    -0.000712\n",
       "                ...    \n",
       "2021-08-30    22.695418\n",
       "2021-08-31    22.495791\n",
       "2021-09-01    22.601020\n",
       "2021-09-02    22.777436\n",
       "2021-09-03    22.878025\n",
       "Name: Adj Close, Length: 2940, dtype: float64"
      ]
     },
     "execution_count": 31,
     "metadata": {},
     "output_type": "execute_result"
    }
   ],
   "source": [
    "(1 + aapl['Adj Close'].pct_change(1)).cumprod() - 1"
   ]
  },
  {
   "cell_type": "code",
   "execution_count": 35,
   "metadata": {},
   "outputs": [
    {
     "data": {
      "text/plain": [
       "Date\n",
       "2009-12-31            NaN\n",
       "2010-01-04       1.556515\n",
       "2010-01-05       1.732071\n",
       "2010-01-06       0.113904\n",
       "2010-01-07      -0.071201\n",
       "                 ...     \n",
       "2021-08-30    2269.541849\n",
       "2021-08-31    2249.579119\n",
       "2021-09-01    2260.102050\n",
       "2021-09-02    2277.743614\n",
       "2021-09-03    2287.802548\n",
       "Name: Adj Close, Length: 2940, dtype: float64"
      ]
     },
     "execution_count": 35,
     "metadata": {},
     "output_type": "execute_result"
    }
   ],
   "source": [
    "ser = (1 + aapl['Adj Close'].pct_change(1)).cumprod() - 1\n",
    "100*ser"
   ]
  },
  {
   "cell_type": "markdown",
   "metadata": {},
   "source": [
    "----------------\n",
    "\n",
    "**Now the questions: How can we fairly evaluate performance of an individual stock (or custom portfolio of stocks) against the performance of the \"market\" (typically some benchmark, like the SP500 or Russell 3000)?**\n",
    "\n",
    "------\n",
    "\n",
    "\n",
    "# Capital Asset Pricing Model\n",
    "\"The Capital Asset Pricing Model (CAPM) describes the relationship between systematic risk and expected return for assets, particularly stocks.\" https://www.investopedia.com/terms/c/capm.asp\n",
    "\n",
    "Mathematically it is defined as:\n",
    "$$ ER_i = R_f + \\beta_i*(ER_m-R_f)$$\n",
    "\n",
    "* $R_f$ is the risk free rate (currently 0, see next lecture notebook for details why, \n",
    "* $\\beta$ is the beta of the investment, (Volatility or risk compared to the market (SP500)),\n",
    "* $ER_m$ is the expected return of the market (SP500),\n",
    "* $ER_i$ is the expected return of your investment\n"
   ]
  },
  {
   "cell_type": "markdown",
   "metadata": {},
   "source": [
    "To compute $\\beta$ you can fit a linear regression, where x is the market (sp500) and y is the stock of your choice (apple, amazon, ge). \n",
    "Additionally this linear regression returns $\\alpha$ (the intercept) which can be interpreted as the excess return to the market.\n",
    "\n",
    "We use **linregress(x, y)** from scipy.stats to compute the least squares regression"
   ]
  },
  {
   "cell_type": "code",
   "execution_count": 36,
   "metadata": {},
   "outputs": [],
   "source": [
    "from scipy.stats import linregress"
   ]
  },
  {
   "cell_type": "code",
   "execution_count": 39,
   "metadata": {},
   "outputs": [
    {
     "name": "stdout",
     "output_type": "stream",
     "text": [
      "Help on function linregress in module scipy.stats._stats_mstats_common:\n",
      "\n",
      "linregress(x, y=None)\n",
      "    Calculate a linear least-squares regression for two sets of measurements.\n",
      "    \n",
      "    Parameters\n",
      "    ----------\n",
      "    x, y : array_like\n",
      "        Two sets of measurements.  Both arrays should have the same length.  If\n",
      "        only `x` is given (and ``y=None``), then it must be a two-dimensional\n",
      "        array where one dimension has length 2.  The two sets of measurements\n",
      "        are then found by splitting the array along the length-2 dimension.  In\n",
      "        the case where ``y=None`` and `x` is a 2x2 array, ``linregress(x)`` is\n",
      "        equivalent to ``linregress(x[0], x[1])``.\n",
      "    \n",
      "    Returns\n",
      "    -------\n",
      "    slope : float\n",
      "        Slope of the regression line.\n",
      "    intercept : float\n",
      "        Intercept of the regression line.\n",
      "    rvalue : float\n",
      "        Correlation coefficient.\n",
      "    pvalue : float\n",
      "        Two-sided p-value for a hypothesis test whose null hypothesis is\n",
      "        that the slope is zero, using Wald Test with t-distribution of\n",
      "        the test statistic.\n",
      "    stderr : float\n",
      "        Standard error of the estimated gradient.\n",
      "    \n",
      "    See also\n",
      "    --------\n",
      "    :func:`scipy.optimize.curve_fit` : Use non-linear\n",
      "     least squares to fit a function to data.\n",
      "    :func:`scipy.optimize.leastsq` : Minimize the sum of\n",
      "     squares of a set of equations.\n",
      "    \n",
      "    Notes\n",
      "    -----\n",
      "    Missing values are considered pair-wise: if a value is missing in `x`,\n",
      "    the corresponding value in `y` is masked.\n",
      "    \n",
      "    Examples\n",
      "    --------\n",
      "    >>> import matplotlib.pyplot as plt\n",
      "    >>> from scipy import stats\n",
      "    \n",
      "    Generate some data:\n",
      "    \n",
      "    >>> np.random.seed(12345678)\n",
      "    >>> x = np.random.random(10)\n",
      "    >>> y = 1.6*x + np.random.random(10)\n",
      "    \n",
      "    Perform the linear regression:\n",
      "    \n",
      "    >>> slope, intercept, r_value, p_value, std_err = stats.linregress(x, y)\n",
      "    >>> print(\"slope: %f    intercept: %f\" % (slope, intercept))\n",
      "    slope: 1.944864    intercept: 0.268578\n",
      "    \n",
      "    To get coefficient of determination (R-squared):\n",
      "    \n",
      "    >>> print(\"R-squared: %f\" % r_value**2)\n",
      "    R-squared: 0.735498\n",
      "    \n",
      "    Plot the data along with the fitted line:\n",
      "    \n",
      "    >>> plt.plot(x, y, 'o', label='original data')\n",
      "    >>> plt.plot(x, intercept + slope*x, 'r', label='fitted line')\n",
      "    >>> plt.legend()\n",
      "    >>> plt.show()\n",
      "    \n",
      "    Example for the case where only x is provided as a 2x2 array:\n",
      "    \n",
      "    >>> x = np.array([[0, 1], [0, 2]])\n",
      "    >>> r = stats.linregress(x)\n",
      "    >>> r.slope, r.intercept\n",
      "    (2.0, 0.0)\n",
      "\n"
     ]
    }
   ],
   "source": [
    "help(linregress)"
   ]
  },
  {
   "cell_type": "markdown",
   "metadata": {},
   "source": [
    "**IMPORTANT NOTE: We can't have NaN data here, make sure to drop it if you still have it in your dataframe, otherwise you will get a warning and NaN values for Alpha and Beta.**"
   ]
  },
  {
   "cell_type": "code",
   "execution_count": 51,
   "metadata": {},
   "outputs": [],
   "source": [
    "aapl = aapl.dropna()\n",
    "amzn = amzn.dropna()\n",
    "ge = ge.dropna()\n",
    "sp500 = sp500.dropna()\n",
    "vix = vix.dropna()"
   ]
  },
  {
   "cell_type": "code",
   "execution_count": 52,
   "metadata": {},
   "outputs": [],
   "source": [
    "beta_apple, alpha_apple, _, _, _ = linregress(sp500[\"Daily Return\"], aapl[\"Daily Return\"])\n",
    "beta_amzn, alpha_amzn, _, _, _ = linregress(sp500[\"Daily Return\"], amzn[\"Daily Return\"])\n",
    "beta_ge, alpha_ge, _, _, _ = linregress(sp500[\"Daily Return\"], ge[\"Daily Return\"])\n",
    "beta_sp500, alpha_sp500, _, _, _ = linregress(sp500[\"Daily Return\"], sp500[\"Daily Return\"])"
   ]
  },
  {
   "cell_type": "markdown",
   "metadata": {},
   "source": [
    "Both, apple and amazon have a small beta and a positive alpha which indicates excess returns"
   ]
  },
  {
   "cell_type": "code",
   "execution_count": 53,
   "metadata": {},
   "outputs": [
    {
     "name": "stdout",
     "output_type": "stream",
     "text": [
      "beta of Apple: 1.0917032604626988, Alpha: 0.0005698549581066899\n"
     ]
    }
   ],
   "source": [
    "print(f\"beta of Apple: {beta_apple}, Alpha: {alpha_apple}\")"
   ]
  },
  {
   "cell_type": "code",
   "execution_count": 54,
   "metadata": {},
   "outputs": [
    {
     "name": "stdout",
     "output_type": "stream",
     "text": [
      "beta of Amazon: 1.0264747996224106, Alpha: 0.0006735393441121332\n"
     ]
    }
   ],
   "source": [
    "print(f\"beta of Amazon: {beta_amzn}, Alpha: {alpha_amzn}\")"
   ]
  },
  {
   "cell_type": "markdown",
   "metadata": {},
   "source": [
    "As you can see, GE has a higher beta and a negative alpha. This means that the risk of GE is higher compared to the market AND it yielded less returns than the sp500"
   ]
  },
  {
   "cell_type": "code",
   "execution_count": 55,
   "metadata": {},
   "outputs": [
    {
     "name": "stdout",
     "output_type": "stream",
     "text": [
      "beta of GE: 1.1488219188566968, Alpha: -0.0004358805800206199\n"
     ]
    }
   ],
   "source": [
    "print(f\"beta of GE: {beta_ge}, Alpha: {alpha_ge}\")"
   ]
  },
  {
   "cell_type": "markdown",
   "metadata": {},
   "source": [
    "To verify everything, the $\\beta$ of sp500 should be 1 and  $\\alpha$ should be zero"
   ]
  },
  {
   "cell_type": "code",
   "execution_count": 56,
   "metadata": {
    "scrolled": true
   },
   "outputs": [
    {
     "name": "stdout",
     "output_type": "stream",
     "text": [
      "beta of SP500: 1.0, Alpha: 0.0\n"
     ]
    }
   ],
   "source": [
    "print(f\"beta of SP500: {beta_sp500}, Alpha: {alpha_sp500}\")"
   ]
  },
  {
   "cell_type": "markdown",
   "metadata": {},
   "source": [
    "To deepen our understanding: The volatility index express the volatility of the sp500 and is inverse to the market, thus it should have a negative $\\beta$"
   ]
  },
  {
   "cell_type": "code",
   "execution_count": 57,
   "metadata": {},
   "outputs": [],
   "source": [
    "beta_vix, alpha_vix, _, _, _ = linregress(sp500[\"Daily Return\"], vix[\"Daily Return\"])"
   ]
  },
  {
   "cell_type": "code",
   "execution_count": 59,
   "metadata": {},
   "outputs": [
    {
     "data": {
      "text/plain": [
       "-5.899407949811443"
      ]
     },
     "execution_count": 59,
     "metadata": {},
     "output_type": "execute_result"
    }
   ],
   "source": [
    "beta_vix"
   ]
  },
  {
   "cell_type": "code",
   "execution_count": 60,
   "metadata": {},
   "outputs": [
    {
     "data": {
      "text/plain": [
       "0.006742981581293557"
      ]
     },
     "execution_count": 60,
     "metadata": {},
     "output_type": "execute_result"
    }
   ],
   "source": [
    "alpha_vix"
   ]
  },
  {
   "cell_type": "markdown",
   "metadata": {},
   "source": [
    "Additionally we can take a look at a leveraged SP500 (SSO): It should have a beta of 2"
   ]
  },
  {
   "cell_type": "code",
   "execution_count": 61,
   "metadata": {},
   "outputs": [],
   "source": [
    "sp500_leveraged = pd.read_csv(\"sp_leveraged_2010.csv\")  "
   ]
  },
  {
   "cell_type": "code",
   "execution_count": 62,
   "metadata": {},
   "outputs": [],
   "source": [
    "sp500_leveraged[\"Daily Return\"] = sp500_leveraged[\"Adj Close\"].pct_change(1)\n",
    "sp500_leveraged = sp500_leveraged.dropna()\n"
   ]
  },
  {
   "cell_type": "code",
   "execution_count": 63,
   "metadata": {},
   "outputs": [],
   "source": [
    "beta_sp500_leveraged, alpha_sp500_leveraged, _, _, _ = linregress(sp500[\"Daily Return\"], sp500_leveraged[\"Daily Return\"])"
   ]
  },
  {
   "cell_type": "code",
   "execution_count": 64,
   "metadata": {},
   "outputs": [
    {
     "data": {
      "text/plain": [
       "2.010135618299088"
      ]
     },
     "execution_count": 64,
     "metadata": {},
     "output_type": "execute_result"
    }
   ],
   "source": [
    "beta_sp500_leveraged"
   ]
  },
  {
   "cell_type": "code",
   "execution_count": 65,
   "metadata": {},
   "outputs": [
    {
     "data": {
      "text/plain": [
       "-7.749523800499323e-05"
      ]
     },
     "execution_count": 65,
     "metadata": {},
     "output_type": "execute_result"
    }
   ],
   "source": [
    "alpha_sp500_leveraged # Notice how this is almost zero"
   ]
  },
  {
   "cell_type": "markdown",
   "metadata": {},
   "source": [
    "**Great work! For more information on CAPM, check out: https://en.wikipedia.org/wiki/Capital_asset_pricing_model**"
   ]
  }
 ],
 "metadata": {
  "kernelspec": {
   "display_name": "Python 3",
   "language": "python",
   "name": "python3"
  },
  "language_info": {
   "codemirror_mode": {
    "name": "ipython",
    "version": 3
   },
   "file_extension": ".py",
   "mimetype": "text/x-python",
   "name": "python",
   "nbconvert_exporter": "python",
   "pygments_lexer": "ipython3",
   "version": "3.8.3"
  }
 },
 "nbformat": 4,
 "nbformat_minor": 5
}
