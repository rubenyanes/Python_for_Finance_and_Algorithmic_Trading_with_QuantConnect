{
 "cells": [
  {
   "cell_type": "markdown",
   "metadata": {},
   "source": [
    "___\n",
    "\n",
    "<a href='http://www.pieriandata.com'><img src='../Pierian_Data_Logo.png'/></a>\n",
    "___\n",
    "<center><em>Copyright by Pierian Data Inc.</em></center>\n",
    "<center><em>For more information, visit us at <a href='http://www.pieriandata.com'>www.pieriandata.com</a></em></center>"
   ]
  },
  {
   "cell_type": "markdown",
   "metadata": {},
   "source": [
    "Our first step towards being an algorithmic trader is to get to know the quantconnect platform and its components by implementing some basic stock market strategies:\n",
    "\n",
    "\n",
    "1. Buy a single stock and hold\n",
    "2. Buy multiple stocks and hold\n",
    "\n",
    "Note, we will not sell these holdings, we'll discover that in the next notebook.\n",
    "\n",
    "**NOTE: Make sure to watch the video to see how to implement the actual code, its not designed to run in a notebook, its specifically for QuantConnect**"
   ]
  },
  {
   "cell_type": "markdown",
   "metadata": {},
   "source": [
    "## 1: Buy a single stock and hold it"
   ]
  },
  {
   "cell_type": "markdown",
   "metadata": {},
   "source": [
    "Imagine it is the year 2010 and you want to invest 10,000 $ in a stock of your choice. <br />\n",
    "How much would you have today? <br />\n",
    "Let's figure it out by writing our first quantconnect algorithm!<br />"
   ]
  },
  {
   "cell_type": "markdown",
   "metadata": {},
   "source": [
    "The basis of any algorithm in quantconnect is the *QCAlgorithm* class, from which we must inherit. <br />\n",
    "Every algorithm needs to define an **Initialize** method where we set up everything.<br />\n",
    "This includes the stock we want to track, how much cash is available, the start and end date and many many more which we will learn together during this course. <br />\n"
   ]
  },
  {
   "cell_type": "code",
   "execution_count": null,
   "metadata": {},
   "outputs": [],
   "source": [
    "class BuyAndHold(QCAlgorithm):"
   ]
  },
  {
   "cell_type": "markdown",
   "metadata": {},
   "source": [
    "In order to implement the BuyAndHold strategy, we need to define what stack we want to buy and when we want to buy it.\n",
    "The start date can be set via **self.setStartDate(year, month, day)** <br />\n",
    "If you want to set an end date you can do it via **self.setEndDate(year, month, day).**<br />\n",
    "The available money is defined via **self.SetCash(amount)**. <br />\n",
    "We can choose a stock by using the **self.AddEquity(equity, resolution)** which creates a symbol for this stock which we can use to access it.\n",
    "The predefined available resolutions are: Tick, Second, Minute, Hourly, Daily but you can consolidate those into any desired resolution. We will see this later!"
   ]
  },
  {
   "cell_type": "code",
   "execution_count": 1,
   "metadata": {},
   "outputs": [],
   "source": [
    "def Initialize(self):\n",
    "    self.SetStartDate(2010, 1, 1)  # We want to invest on the first January 2010\n",
    "    self.SetEndDate(2020, 1, 1)  # We want to end the simulation on the first January 2020\n",
    "\n",
    "    self.SetCash(10000)  #  10,000$ are available\n",
    "\n",
    "    # Let's say we want to invest in apple. Thus we add Apple to our portfolio list.\n",
    "    # As we want to buy and hold a daily resolution is enough\n",
    "    self.AddEquity(\"AAPL\", Resolution.Daily)  \n"
   ]
  },
  {
   "cell_type": "markdown",
   "metadata": {},
   "source": [
    "In the **OnData** method we can define what action we want to perform on our stocks in the portfolio.<br />\n",
    "It is automatically called for each equity for each time resolution point and gets the full data at this time point for the given stock.<br />\n",
    "This includes the date, the opening and closing price and many many more which we will discover during the course.\n",
    "\n",
    "In order to invest everything into our chosen equity, we can use the **self.SetHoldings(equity, percentage)** method. We can check beforehand if we are already invested with the **self.Portfolio.Invested** attribute"
   ]
  },
  {
   "cell_type": "code",
   "execution_count": null,
   "metadata": {},
   "outputs": [],
   "source": [
    "def OnData(self, data):\n",
    "    ''' OnData event is the primary entry point for your algorithm. Each new data point will be pumped in here.\n",
    "        Arguments:\n",
    "            data: Slice object keyed by symbol containing the stock data\n",
    "    '''\n",
    "\n",
    "    # Check if we're not invested and then invest everything in Apple.      \n",
    "    if not self.Portfolio.Invested:\n",
    "        self.SetHoldings(\"AAPL\", 1)"
   ]
  },
  {
   "cell_type": "markdown",
   "metadata": {},
   "source": [
    "The full algorithm is now given by concattenating above two cells:\n",
    "Now we are ready to perform our first run!"
   ]
  },
  {
   "cell_type": "code",
   "execution_count": null,
   "metadata": {},
   "outputs": [],
   "source": [
    "class BuyAndHold(QCAlgorithm):\n",
    "\n",
    "    def Initialize(self):\n",
    "        self.SetStartDate(2010, 1, 1)  # We want to invest on the first January 2010\n",
    "        self.SetEndDate(2020, 1, 1)  # We want to end the simulation on the first January 2020\n",
    "\n",
    "        self.SetCash(10000)  #  10,000$ are available\n",
    "        \n",
    "        # Let's say we want to invest in apple. Thus we add Apple to our portfolio list.\n",
    "        # As we want to buy and hold a daily resolution is enough\n",
    "        self.AddEquity(\"AAPL\", Resolution.Daily)  \n",
    "        \n",
    "    def OnData(self, data):\n",
    "        ''' OnData event is the primary entry point for your algorithm. Each new data point will be pumped in here.\n",
    "            Arguments:\n",
    "                data: Slice object keyed by symbol containing the stock data\n",
    "        '''\n",
    "      \n",
    "        # Check if we're not invested and then invest everything in Apple.      \n",
    "        if not self.Portfolio.Invested:\n",
    "            self.SetHoldings(\"AAPL\", 1)"
   ]
  },
  {
   "cell_type": "markdown",
   "metadata": {},
   "source": [
    "## Buy multiple stocks and hold them\n",
    "Of course we can also buy multiple stocks instead of a single one.\n",
    "To do this we just need to add more Equities to our portfolio and split our investments 50-50"
   ]
  },
  {
   "cell_type": "code",
   "execution_count": null,
   "metadata": {},
   "outputs": [],
   "source": [
    "class BuyAndHold(QCAlgorithm):\n",
    "\n",
    "    def Initialize(self):\n",
    "        \n",
    "        self.SetStartDate(2010, 1, 1)  # We want to invest on the first January 2010\n",
    "        self.SetEndDate(2020, 1, 1)\n",
    "        \n",
    "        self.SetCash(10000)  #  10,000$ are available\n",
    "        \n",
    "        # Let's say we want to invest in apple. Thus we add Apple to our portfolio list.\n",
    "        # As we want to buy and hold a daily resolution is enough\n",
    "        self.AddEquity(\"AAPL\", Resolution.Daily)\n",
    "        self.AddEquity(\"MSFT\", Resolution.Daily)\n",
    "        \n",
    "    def OnData(self, data):\n",
    "        ''' OnData event is the primary entry point for your algorithm. Each new data point will be pumped in here.\n",
    "            Arguments:\n",
    "                data: Slice object keyed by symbol containing the stock data\n",
    "        '''\n",
    "      \n",
    "        # Check if we're not invested and then invest 50% in Apple and 50% in Microsoft\n",
    "        if not self.Portfolio.Invested:\n",
    "            \n",
    "            self.SetHoldings(\"AAPL\", 0.5)\n",
    "            self.SetHoldings(\"MSFT\", 0.5)"
   ]
  }
 ],
 "metadata": {
  "kernelspec": {
   "display_name": "Python 3",
   "language": "python",
   "name": "python3"
  },
  "language_info": {
   "codemirror_mode": {
    "name": "ipython",
    "version": 3
   },
   "file_extension": ".py",
   "mimetype": "text/x-python",
   "name": "python",
   "nbconvert_exporter": "python",
   "pygments_lexer": "ipython3",
   "version": "3.8.3"
  }
 },
 "nbformat": 4,
 "nbformat_minor": 4
}
