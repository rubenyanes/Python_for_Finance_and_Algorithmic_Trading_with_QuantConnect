{
 "cells": [
  {
   "cell_type": "markdown",
   "metadata": {},
   "source": [
    "___\n",
    "\n",
    "<a href='http://www.pieriandata.com'><img src='../Pierian_Data_Logo.png'/></a>\n",
    "___\n",
    "<center><em>Copyright by Pierian Data Inc.</em></center>\n",
    "<center><em>For more information, visit us at <a href='http://www.pieriandata.com'>www.pieriandata.com</a></em></center>"
   ]
  },
  {
   "cell_type": "markdown",
   "metadata": {},
   "source": [
    "# Selling Securities\n",
    "\n",
    "Of course someday we need to liquidate (exit our positions and sell in this case of holding stock) our equities, or sell some part of them.\n",
    "There are multiple methods to sell stocks:\n",
    "1. Sell at a target price\n",
    "2. Sell after some specific amount of time has passed\n",
    "3. Sell after a certain percent gain.\n",
    "\n",
    "**Important Note: the Liquidate() call is actually a general call for exiting a position. Which means if you are short a stock, it can still be used for liquidating your position by buying back shares. It is not technically the same as \"selling\", but instead, think of it as \"closing out\" a position.**"
   ]
  },
  {
   "cell_type": "markdown",
   "metadata": {},
   "source": [
    "## Selling at a target price\n",
    "\n",
    "**NOTE: In reality, we would never really sell at a *hard-coded* price! This is merely to illustrate how to compare to some variable price!**\n",
    "\n",
    "To do so, we can simply check for the current price and use the **Liquidate** functionality, which sells all stocks of a given symbol and use a toggle *invest* to decide whether we want to buy or not"
   ]
  },
  {
   "cell_type": "code",
   "execution_count": null,
   "metadata": {},
   "outputs": [],
   "source": [
    "class SellAtPrice(QCAlgorithm):\n",
    "\n",
    "    def Initialize(self):\n",
    "        \n",
    "        self.SetCash(10000)\n",
    "        self.SetStartDate(2010,1,1) \n",
    "        self.SetEndDate(2020,1,1)\n",
    "        self.apple = self.AddEquity(\"AAPL\", Resolution.Daily)\n",
    "        self.limit_price = 50\n",
    "        self.invest = True\n",
    "        \n",
    "    def OnData(self, data):\n",
    "        if not self.Portfolio.Invested and self.invest:  # If not invested, invest everything in Apple\n",
    "            self.SetHoldings(\"AAPL\", 1)\n",
    "        \n",
    "      # If invested and the current apple price is > 50$, sell everything\n",
    "      # update invest so we dont buy again\n",
    "        closing_price = self.Portfolio[\"AAPL\"].Price\n",
    "        if closing_price > 50 and self.Portfolio.Invested:\n",
    "            self.Liquidate(\"AAPL\")\n",
    "            self.invest=False\n"
   ]
  },
  {
   "cell_type": "markdown",
   "metadata": {},
   "source": [
    "## Selling after some specific amount of time has passed\n"
   ]
  },
  {
   "cell_type": "code",
   "execution_count": null,
   "metadata": {},
   "outputs": [],
   "source": [
    "class SellAfterTime(QCAlgorithm):\n",
    "\n",
    "    def Initialize(self):\n",
    "        \n",
    "        self.SetCash(10000)\n",
    "        self.SetStartDate(2010,1,1) \n",
    "        self.apple = self.AddEquity(\"AAPL\", Resolution.Daily)\n",
    "        self.invest = True # without this variable, we would rebuy AAPL after selling\n",
    "        \n",
    "        \n",
    "    def OnData(self, data):\n",
    "        if not self.Portfolio.Invested and self.invest:  # If not invested, invest everything in Apple\n",
    "            self.SetHoldings(\"AAPL\", 1)\n",
    "            self.invested_time = self.Time\n",
    "           \n",
    "        \n",
    "      # as the self.Time object in quantconnect is a python datetime object, we can simply substract\n",
    "      # the current time from the invest time and sell if e.g 1000 days have passed\n",
    "        self.Log(self.Time - self.invested_time)\n",
    "        time_diff = (self.Time - self.invested_time).days\n",
    "        if time_diff > 1000:\n",
    "            self.Liquidate(\"AAPL\")\n",
    "            self.invest=False\n"
   ]
  },
  {
   "cell_type": "markdown",
   "metadata": {},
   "source": [
    "## Selling after a profit threshold has been reached"
   ]
  },
  {
   "cell_type": "code",
   "execution_count": null,
   "metadata": {},
   "outputs": [],
   "source": [
    "class SellAfterPercent(QCAlgorithm):\n",
    "\n",
    "    def Initialize(self):\n",
    "        \n",
    "        self.SetCash(10000)\n",
    "        self.SetStartDate(2010,1,1) \n",
    "        self.SetStartDate(2015,1,1)\n",
    "        self.apple = self.AddEquity(\"AAPL\", Resolution.Daily)\n",
    "        self.limit_profit_percent = 1\n",
    "        self.invest = True\n",
    "        \n",
    "        \n",
    "    def OnData(self, data):\n",
    "        \n",
    "        if not self.Portfolio.Invested and self.invest:  # If not invested, invest everything in Apple\n",
    "            self.SetHoldings(\"AAPL\", 1) \n",
    "        \n",
    "        # Grab Portfolio Attributes\n",
    "        \n",
    "        # Use for raw dollar profit\n",
    "        # profitDollarValue = self.Portfolio[symbol].UnrealizedProfit\n",
    "        \n",
    "        # Use for profit in terms of percent (more realistic)\n",
    "        # profitPercentage  = self.Portfolio[symbol].UnrealizedProfitPercent\n",
    "        \n",
    "        profit_percent  = self.Portfolio['AAPL'].UnrealizedProfitPercent \n",
    "        \n",
    "        if profit_percent > self.limit_profit_percent:\n",
    "            self.Liquidate(\"AAPL\")\n",
    "            self.invest=False"
   ]
  },
  {
   "cell_type": "markdown",
   "metadata": {},
   "source": [
    "## Sell after Loss Limit Reached\n",
    "\n",
    "### NOTE! We switched from Apple (AAPL) to American Airlines (AAL) to make sure we experience a loss. Also check out the start/end dates."
   ]
  },
  {
   "cell_type": "code",
   "execution_count": null,
   "metadata": {},
   "outputs": [],
   "source": [
    "class SellAfterPercent(QCAlgorithm):\n",
    "\n",
    "    def Initialize(self):\n",
    "        \n",
    "        self.SetCash(10000)\n",
    "        self.SetStartDate(2018,1,1) \n",
    "        self.SetEndDate(2021,1,1) \n",
    "        self.apple = self.AddEquity(\"AAL\", Resolution.Daily)\n",
    "        self.limit_loss_percent = -0.5\n",
    "        self.invest = True\n",
    "        \n",
    "        \n",
    "    def OnData(self, data):\n",
    "        \n",
    "        if not self.Portfolio.Invested and self.invest:  # If not invested, invest everything in Apple\n",
    "            self.SetHoldings(\"AAL\", 1) \n",
    "        \n",
    "        # Grab Portfolio Attributes\n",
    "        \n",
    "        # Use for raw dollar profit\n",
    "        # profitDollarValue = self.Portfolio[symbol].UnrealizedProfit\n",
    "        \n",
    "        # Use for profit in terms of percent (more realistic)\n",
    "        # profitPercentage  = self.Portfolio[symbol].UnrealizedProfitPercent\n",
    "        \n",
    "        profit_percent  = self.Portfolio['AAL'].UnrealizedProfitPercent  \n",
    "        \n",
    "        # Sell if we lose more than 50% of our initial value\n",
    "        if profit_percent < self.limit_loss_percent:\n",
    "            self.Liquidate(\"AAL\")\n",
    "            self.invest=False"
   ]
  }
 ],
 "metadata": {
  "kernelspec": {
   "display_name": "Python 3",
   "language": "python",
   "name": "python3"
  },
  "language_info": {
   "codemirror_mode": {
    "name": "ipython",
    "version": 3
   },
   "file_extension": ".py",
   "mimetype": "text/x-python",
   "name": "python",
   "nbconvert_exporter": "python",
   "pygments_lexer": "ipython3",
   "version": "3.8.3"
  }
 },
 "nbformat": 4,
 "nbformat_minor": 4
}
