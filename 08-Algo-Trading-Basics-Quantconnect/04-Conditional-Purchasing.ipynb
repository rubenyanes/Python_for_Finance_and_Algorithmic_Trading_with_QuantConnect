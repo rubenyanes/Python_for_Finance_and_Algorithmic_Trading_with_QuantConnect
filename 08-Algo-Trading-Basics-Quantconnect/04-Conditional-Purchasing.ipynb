{
 "cells": [
  {
   "cell_type": "markdown",
   "metadata": {},
   "source": [
    "___\n",
    "\n",
    "<a href='http://www.pieriandata.com'><img src='../Pierian_Data_Logo.png'/></a>\n",
    "___\n",
    "<center><em>Copyright by Pierian Data Inc.</em></center>\n",
    "<center><em>For more information, visit us at <a href='http://www.pieriandata.com'>www.pieriandata.com</a></em></center>"
   ]
  },
  {
   "cell_type": "markdown",
   "metadata": {},
   "source": [
    "Of course we can perform more advanced operations than simply buying and selling on specific time events\n",
    "As an example, also:\n",
    "\n",
    "1. Monthly buying - Cost Averaging Effect\n",
    "2. Buy/Sell one equity based on the price of another equity\n",
    "3. Buy/Sell based on time of year (seasonal)"
   ]
  },
  {
   "cell_type": "markdown",
   "metadata": {},
   "source": [
    "# Scheduling Functins\n",
    "\n",
    "## Monthly buying - Cost Averaging Effect"
   ]
  },
  {
   "cell_type": "markdown",
   "metadata": {},
   "source": [
    "Another possibility, instead of the initial, full investment is to buy on a regular schedule (e.g monthly).\n",
    "The idea behind this tactic is that we buy during highs and during lows to create a cost average effect"
   ]
  },
  {
   "cell_type": "markdown",
   "metadata": {},
   "source": [
    "To do so we can make use of the schedule functionality provided by quantconnect: **self.Schedule.On(DateRules ,TimeRules, function)** <br />\n",
    "(https://www.quantconnect.com/docs/algorithm-reference/scheduled-events)\n",
    "**DateRules** define on what date to buy and the TimeRules define what time to buy on the given date.\n",
    "The third argument is the function which is called each time the schedule is triggered"
   ]
  },
  {
   "cell_type": "markdown",
   "metadata": {},
   "source": [
    "To define our monthly buy function we create a scheduled event, where the DateRules is MonthStart() and the TimeRules is 9:30am. Thus the event will be executed at 930 on the first trading day of each month.\n",
    "If executed we cann the self.Buy function which is defined below: <br />\n",
    "Note that we don't use **SetHoldings()** to invest but **MarketOrder(stock, num_shares)** which creates a market order to buy num_shares stocks of the given symbol.\n",
    "\n",
    "```python\n",
    "def Initialize(self):\n",
    "\n",
    "    self.SetCash(10000)\n",
    "    self.SetStartDate(2010,1,1) \n",
    "    self.apple = self.AddEquity(\"AAPL\", Resolution.Daily)\n",
    "    \n",
    "    self.Schedule.On(self.DateRules.MonthStart(), self.TimeRules.At(9,30), self.Buy)\n",
    "    self.monthly_buy = 200\n",
    "\n",
    "```"
   ]
  },
  {
   "cell_type": "markdown",
   "metadata": {},
   "source": [
    "```python\n",
    "def Buy(self):\n",
    "    \"\"\"\n",
    "    Buy function which is called on the first trading day of each month\n",
    "    \"\"\"\n",
    "\n",
    "    # If we run out of money, dont buy anymore! End of investing\n",
    "    if self.Portfolio.Cash < self.apple.Open:\n",
    "        self.Log(\"Not enough money! Stop investing\")\n",
    "        return\n",
    "\n",
    "    # Calculate how many shares we can buy with 200$\n",
    "    shares_to_buy = int(self.monthly_buy / self.apple.Open)\n",
    "    self.Log(f\"Buying {shares_to_buy} of {self.apple.Symbol}. Remaining money: {self.Portfolio.Cash} $\")\n",
    "    self.MarketOrder(\"AAPL\", shares_to_buy)\n",
    "```"
   ]
  },
  {
   "cell_type": "markdown",
   "metadata": {},
   "source": [
    "As we create the order in the **buy** function, we can skip defining the OnData method. <br />\n",
    "Let's say we want to invest 200$ into Apple each month until we run out of money."
   ]
  },
  {
   "cell_type": "code",
   "execution_count": null,
   "metadata": {},
   "outputs": [],
   "source": [
    "class MonthlyBuy(QCAlgorithm):\n",
    "\n",
    "    def Initialize(self):\n",
    "        \n",
    "        self.SetCash(10000)\n",
    "        self.SetStartDate(2010,1,1) \n",
    "        self.apple = self.AddEquity(\"AAPL\", Resolution.Daily)\n",
    "        self.Schedule.On(self.DateRules.MonthStart(), self.TimeRules.At(9,30), self.Buy)\n",
    "        self.monthly_buy = 200\n",
    "\n",
    "    def Buy(self):\n",
    "        \"\"\"\n",
    "        Buy function which is called on the first trading day of each month\n",
    "        \"\"\"\n",
    "\n",
    "        # If we run out of money, dont buy anymore! End of investing\n",
    "        if self.Portfolio.Cash < self.apple.Open:\n",
    "            self.Log(\"Not enough money! Stop investing\")\n",
    "            return\n",
    "        \n",
    "        # Calculate how many shares we can buy with 200$\n",
    "        shares_to_buy = int(self.monthly_buy / self.apple.Open)\n",
    "        self.Log(f\"Buying {shares_to_buy} of {self.apple.Symbol}. Remaining money: {self.Portfolio.Cash} $\")\n",
    "        self.MarketOrder(\"AAPL\", shares_to_buy)"
   ]
  },
  {
   "cell_type": "markdown",
   "metadata": {},
   "source": [
    "The problem with above code is that, given the price of an apple share rises above 200\\\\$ we would never buy again.\n",
    "To solve this, we can use a \"cash reserve\" variable that receives an additional amount of 200\\\\$ each month if we were not able to buy a stock."
   ]
  },
  {
   "cell_type": "markdown",
   "metadata": {},
   "source": [
    "We will use tesla as an example for this:"
   ]
  },
  {
   "cell_type": "code",
   "execution_count": null,
   "metadata": {},
   "outputs": [],
   "source": [
    "class MonthlyBuy2(QCAlgorithm):\n",
    "\n",
    "    def Initialize(self):\n",
    "        \n",
    "        self.SetCash(10000)\n",
    "        self.SetStartDate(2019,1,1) \n",
    "        self.tesla = self.AddEquity(\"TSLA\", Resolution.Daily)\n",
    "        self.Schedule.On(self.DateRules.MonthStart(), self.TimeRules.At(9,30), self.Buy)\n",
    "        self.monthly_buy = 200\n",
    "        self.cash_reserve = 200  # Used to store our money\n",
    "\n",
    "    def Buy(self):\n",
    "        \"\"\"\n",
    "        Buy function which is called on the first trading day of each month\n",
    "        \"\"\"\n",
    "\n",
    "        # If we run out of money, dont buy anymore! End of investing\n",
    "        if self.Portfolio.Cash < self.tesla.Open:\n",
    "            self.Debug(\"Not enough money! Stop investing\")\n",
    "            return\n",
    "        \n",
    "        # If the stock price is larger than our cash_reserve,\n",
    "        # we increase our cash_reserve and dont buy anything this month\n",
    "        elif self.tesla.Open > self.cash_reserve:\n",
    "            self.cash_reserve += self.monthly_buy\n",
    "\n",
    "            self.Log(f\"Stock is too expensive ({self.tesla.Open} $), add {self.monthly_buy} $ to cash_reserve. \\\n",
    "                         Current amount: {self.cash_reserve} $\")\n",
    "            return\n",
    "        \n",
    "        # Calculate how many shares we can buy with the amount in our cash_reserve\n",
    "        shares_to_buy = int(self.cash_reserve / self.tesla.Open)\n",
    "        self.Log(f\"Buying {shares_to_buy} of {self.tesla.Symbol}. Remaining money: {self.Portfolio.Cash} $\")\n",
    "        self.MarketOrder(self.tesla.Symbol, shares_to_buy)\n",
    "        # Reset cash_reserve\n",
    "        self.cash_reserve = self.monthly_buy"
   ]
  },
  {
   "cell_type": "markdown",
   "metadata": {},
   "source": [
    "## Buy a stock based on the price of another stock.\n",
    "As an example: Let's invest in VNQ (Vanguard Real Estate Index Fund) and VNQI (Vanguard Real Estate Index Fund International). <br />\n",
    "Depending on the Open Close price difference of the day we either invest in VNQ or VNQI"
   ]
  },
  {
   "cell_type": "code",
   "execution_count": null,
   "metadata": {},
   "outputs": [],
   "source": [
    "class PriceComparison(QCAlgorithm):\n",
    "\n",
    "    def Initialize(self):\n",
    "        self.SetStartDate(2018, 1, 1)  # We want to invest on the first January 2010\n",
    "        self.SetEndDate(2020, 1, 1)\n",
    "        self.SetCash(10000)  #  10,000$ are available\n",
    "        \n",
    "        self.vnq = self.AddEquity(\"VNQ\", Resolution.Daily)\n",
    "        self.vnqi = self.AddEquity(\"VNQI\", Resolution.Daily)\n",
    "\n",
    "    def OnData(self, data):\n",
    "        \n",
    "        # Compute percent price difference between VNQI and VNQ\n",
    "        vnqi_pop = (self.vnqi.Close - self.vnqi.Open)/self.vnqi.Open\n",
    "        vnq_pop = (self.vnq.Close - self.vnq.Open)/self.vnq.Open\n",
    "        \n",
    "        # IF DAILY OPEN PRICE OF VNQI is 2% greater than VNQ, set holdings to VNQ\n",
    "        if  vnqi_pop > 0.02 and vnqi_pop>vnq_pop:   \n",
    "            self.SetHoldings(\"VNQ\", 1,True)\n",
    "            self.Log(f'VNQI POP: {vnqi_pop}')\n",
    "        \n",
    "        # IF DAILY OPEN PRICE OF VNQI is 2% less than VNQ, set holdings to VNQI\n",
    "        if  vnq_pop > 0.02 and vnq_pop>vnqi_pop:   \n",
    "            self.SetHoldings(\"VNQI\", 1,True)\n",
    "            self.Log(f'VNQ POP: {vnq_pop}')\n",
    "            \n",
    "        else:\n",
    "            self.Log('No Action Taken Today')\n",
    "             \n",
    "            return\n",
    "        \n",
    "\n"
   ]
  }
 ],
 "metadata": {
  "kernelspec": {
   "display_name": "Python 3",
   "language": "python",
   "name": "python3"
  },
  "language_info": {
   "codemirror_mode": {
    "name": "ipython",
    "version": 3
   },
   "file_extension": ".py",
   "mimetype": "text/x-python",
   "name": "python",
   "nbconvert_exporter": "python",
   "pygments_lexer": "ipython3",
   "version": "3.8.3"
  }
 },
 "nbformat": 4,
 "nbformat_minor": 4
}
