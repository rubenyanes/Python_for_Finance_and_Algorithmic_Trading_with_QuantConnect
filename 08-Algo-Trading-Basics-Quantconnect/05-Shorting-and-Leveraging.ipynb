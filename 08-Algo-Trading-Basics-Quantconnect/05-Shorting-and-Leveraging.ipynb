{
 "cells": [
  {
   "cell_type": "markdown",
   "metadata": {},
   "source": [
    "___\n",
    "\n",
    "<a href='http://www.pieriandata.com'><img src='../Pierian_Data_Logo.png'/></a>\n",
    "___\n",
    "<center><em>Copyright by Pierian Data Inc.</em></center>\n",
    "<center><em>For more information, visit us at <a href='http://www.pieriandata.com'>www.pieriandata.com</a></em></center>"
   ]
  },
  {
   "cell_type": "markdown",
   "metadata": {},
   "source": [
    "## Set Leverage for an equity\n",
    "\n",
    "We can simply use **security.SetLeverage(leverage)** in order to allow leverage for a given equity"
   ]
  },
  {
   "cell_type": "code",
   "execution_count": null,
   "metadata": {},
   "outputs": [],
   "source": [
    "class Leverage(QCAlgorithm):\n",
    "\n",
    "    def Initialize(self):\n",
    "        self.SetStartDate(2020, 1, 1)  # We want to invest on the first January 2010\n",
    "        self.SetCash(10000)  #  10,000$ are available\n",
    "        \n",
    "        self.apple = self.AddEquity(\"AAPL\", Resolution.Daily)\n",
    "        self.apple.SetLeverage(2)  # Use a 2x leverage\n",
    "        \n",
    "    def OnData(self, data):\n",
    "        \n",
    "        if not self.Portfolio.Invested:\n",
    "            self.SetHoldings(self.apple.Symbol, 2)\n"
   ]
  },
  {
   "cell_type": "code",
   "execution_count": null,
   "metadata": {},
   "outputs": [],
   "source": [
    "class Leverage(QCAlgorithm):\n",
    "\n",
    "    def Initialize(self):\n",
    "        self.SetStartDate(2020, 1, 1)  # We want to invest on the first January 2010\n",
    "        self.SetCash(10000)  #  10,000$ are available\n",
    "        self.SetBrokerageModel(BrokerageName.InteractiveBrokersBrokerage, AccountType.Cash)\n",
    "        self.apple = self.AddEquity(\"AAPL\", Resolution.Daily)\n",
    "         \n",
    "        \n",
    "    def OnData(self, data):\n",
    "        \n",
    "        if not self.Portfolio.Invested:\n",
    "            self.SetHoldings(self.apple.Symbol, 1)\n"
   ]
  },
  {
   "cell_type": "markdown",
   "metadata": {},
   "source": [
    "## Shorting\n",
    "We will take a look at two examples:\n",
    "First we will short Seaworld in January 2020 and then close the position in May.\n",
    "Second we will again short Seaworld in January 2020 but dont close the position.\n",
    "What would be the better action?"
   ]
  },
  {
   "cell_type": "code",
   "execution_count": null,
   "metadata": {},
   "outputs": [],
   "source": [
    "class Shorting(QCAlgorithm):\n",
    "\n",
    "    def Initialize(self):\n",
    "        self.SetStartDate(2020, 1, 1)  # We want to invest on the first January 2010\n",
    "        self.SetCash(10000)  #  10,000$ are available\n",
    "        \n",
    "        self.seaworld = self.AddEquity(\"SEAS\", Resolution.Daily)\n",
    "        self.invest = True\n",
    "        \n",
    "    def OnData(self, data):\n",
    "        \n",
    "        # Short as may stocks as possible given the current price and available cash\n",
    "        if  not self.Portfolio.Invested and self.invest:\n",
    "            self.MarketOrder(self.seaworld.Symbol, -self.Portfolio.Cash / self.seaworld.Close )\n",
    "            \n",
    "        # Liquidate position in May and dont invest anymore\n",
    "        if self.Time.month == 5:\n",
    "            self.Liquidate(self.seaworld.Symbol)\n",
    "            self.invest = False\n"
   ]
  },
  {
   "cell_type": "code",
   "execution_count": null,
   "metadata": {},
   "outputs": [],
   "source": [
    "class ShortingNeverLiquidate(QCAlgorithm):\n",
    "\n",
    "    def Initialize(self):\n",
    "        self.SetStartDate(2020, 1, 1)  # We want to invest on the first January 2010\n",
    "        self.SetCash(10000)  #  10,000$ are available\n",
    "        \n",
    "        self.seaworld = self.AddEquity(\"SEAS\", Resolution.Daily)\n",
    "        self.invest = True\n",
    "        \n",
    "    def OnData(self, data):\n",
    "        \n",
    "        # Short as may stocks as possible given the current price and available cash\n",
    "        if  not self.Portfolio.Invested and self.invest:\n",
    "            self.MarketOrder(self.seaworld.Symbol, -self.Portfolio.Cash / self.seaworld.Close )"
   ]
  },
  {
   "cell_type": "markdown",
   "metadata": {},
   "source": [
    "## Margin Call\n",
    " "
   ]
  },
  {
   "cell_type": "code",
   "execution_count": null,
   "metadata": {},
   "outputs": [],
   "source": [
    "class MarginCallEventsAlgorithm(QCAlgorithm):\n",
    "    \"\"\"\n",
    "    This algorithm showcases two margin related event handlers.\n",
    "    OnMarginCallWarning: Fired when a portfolio's remaining margin dips below 5% of the total portfolio value\n",
    "    OnMarginCall: Fired immediately before margin call orders are execued, this gives the algorithm a change to regain margin on its own through liquidation\n",
    "    \"\"\"\n",
    "\n",
    "    def Initialize(self):\n",
    "\n",
    "        self.SetCash(100000)\n",
    "        self.SetStartDate(2020,1,1)\n",
    "        self.SetEndDate(2020,5,1)\n",
    "        self.AddEquity(\"SPY\", Resolution.Daily)\n",
    "        # cranking up the leverage increases the odds of a margin call\n",
    "        # when the security falls in value\n",
    "        self.Securities[\"SPY\"].SetLeverage(10)\n",
    "\n",
    "    def OnData(self, data):\n",
    "        if not self.Portfolio.Invested:\n",
    "            self.SetHoldings(\"SPY\",10)\n",
    "\n",
    "    def OnMarginCall(self, requests):\n",
    "\n",
    "        # Margin call event handler. This method is called right before the margin call orders are placed in the market.\n",
    "        # <param name=\"requests\">The orders to be executed to bring this algorithm within margin limits</param>\n",
    "        # this code gets called BEFORE the orders are placed, so we can try to liquidate some of our positions\n",
    "        # before we get the margin call orders executed. We could also modify these orders by changing their quantities\n",
    "        for order in requests:\n",
    "\n",
    "            # liquidate an extra 10% each time we get a margin call to give us more padding\n",
    "            newQuantity = int( order.Quantity * 1.1)\n",
    "            requests.remove(order)\n",
    "            requests.append(SubmitOrderRequest(order.OrderType, order.SecurityType, order.Symbol, newQuantity, order.StopPrice, order.LimitPrice, self.Time, \"OnMarginCall\"))\n",
    "\n",
    "        return requests\n",
    "\n",
    "    def OnMarginCallWarning(self):\n",
    "\n",
    "        # Margin call warning event handler.\n",
    "        # This method is called when Portfolio.MarginRemaining is under 5% of your Portfolio.TotalPortfolioValue\n",
    "        # a chance to prevent a margin call from occurring\n",
    "\n",
    "        spyHoldings = self.Securities[\"SPY\"].Holdings.Quantity\n",
    "        shares = int(-spyHoldings * 0.005)\n",
    "        self.Error(\"{0} - OnMarginCallWarning(): Liquidating {1} shares of SPY to avoid margin call.\".format(self.Time, shares))\n",
    "        self.MarketOrder(\"SPY\", shares)"
   ]
  }
 ],
 "metadata": {
  "kernelspec": {
   "display_name": "Python 3",
   "language": "python",
   "name": "python3"
  },
  "language_info": {
   "codemirror_mode": {
    "name": "ipython",
    "version": 3
   },
   "file_extension": ".py",
   "mimetype": "text/x-python",
   "name": "python",
   "nbconvert_exporter": "python",
   "pygments_lexer": "ipython3",
   "version": "3.8.5"
  }
 },
 "nbformat": 4,
 "nbformat_minor": 4
}
